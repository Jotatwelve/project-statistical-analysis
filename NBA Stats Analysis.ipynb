{
 "cells": [
  {
   "cell_type": "markdown",
   "metadata": {},
   "source": [
    "# NBA STATISTICAL ANALYSIS"
   ]
  },
  {
   "cell_type": "markdown",
   "metadata": {},
   "source": [
    "NBA generate thousands of data during a season. \n",
    "\n",
    "In this project we are going to work with different datasets that will give us useful information to make correct correlations between our data and to practice about all the concepts studied in class. "
   ]
  },
  {
   "cell_type": "markdown",
   "metadata": {},
   "source": [
    "## INTRO"
   ]
  },
  {
   "cell_type": "markdown",
   "metadata": {},
   "source": [
    "Real Plus Minus (RPM) is the player's average impact in terms of net point differential per 100 offensive and defensive possessions. \n",
    "\n",
    "RPM is created by former Phoenix Suns consultant Steve Ilardi and Jeremias Engelmann, based on Engelmann's version (xRAPM) of Regularized Adjusted Plus-Minus.\n",
    "\n",
    "Another important concept that we see is ELO. \n",
    "Elo ratings have a simple formula; the only inputs are the final score of each game, and where and when it was played. Teams always gain Elo points for winning and these ratings also variate during the years. \n",
    "It's a kind of \"ranking\""
   ]
  },
  {
   "cell_type": "markdown",
   "metadata": {},
   "source": [
    "Once the concepts are defined: \n",
    "\n",
    "- Is a player RPM correlated with their total minutes played?\n",
    "\n",
    "\n",
    "- What's more important to determine RPM of a player? Defensive or offensive attributes?\n",
    "\n",
    "    \n",
    "- Can we predict the ELO of NBA teams? "
   ]
  },
  {
   "cell_type": "markdown",
   "metadata": {},
   "source": [
    "### Libraries"
   ]
  },
  {
   "cell_type": "code",
   "execution_count": 214,
   "metadata": {
    "ExecuteTime": {
     "end_time": "2020-03-28T02:57:03.528563Z",
     "start_time": "2020-03-28T02:57:03.522587Z"
    }
   },
   "outputs": [],
   "source": [
    "import pandas as pd\n",
    "import numpy as np\n",
    "import statsmodels.api as sm\n",
    "import statsmodels.formula.api as smf\n",
    "import statsmodels.api as sm\n",
    "import plotly.graph_objects as go\n",
    "import plotly.offline as pyo\n",
    "import matplotlib.pyplot as plt\n",
    "import seaborn as sns"
   ]
  },
  {
   "cell_type": "markdown",
   "metadata": {},
   "source": [
    "### Exploring the data"
   ]
  },
  {
   "cell_type": "code",
   "execution_count": 179,
   "metadata": {
    "ExecuteTime": {
     "end_time": "2020-03-28T02:56:24.615309Z",
     "start_time": "2020-03-28T02:56:24.558715Z"
    }
   },
   "outputs": [
    {
     "data": {
      "text/html": [
       "<div>\n",
       "<style scoped>\n",
       "    .dataframe tbody tr th:only-of-type {\n",
       "        vertical-align: middle;\n",
       "    }\n",
       "\n",
       "    .dataframe tbody tr th {\n",
       "        vertical-align: top;\n",
       "    }\n",
       "\n",
       "    .dataframe thead th {\n",
       "        text-align: right;\n",
       "    }\n",
       "</style>\n",
       "<table border=\"1\" class=\"dataframe\">\n",
       "  <thead>\n",
       "    <tr style=\"text-align: right;\">\n",
       "      <th></th>\n",
       "      <th>Unnamed: 0</th>\n",
       "      <th>Rk</th>\n",
       "      <th>PLAYER</th>\n",
       "      <th>POSITION</th>\n",
       "      <th>AGE</th>\n",
       "      <th>MP</th>\n",
       "      <th>FG</th>\n",
       "      <th>FGA</th>\n",
       "      <th>FG%</th>\n",
       "      <th>3P</th>\n",
       "      <th>...</th>\n",
       "      <th>DRPM</th>\n",
       "      <th>RPM</th>\n",
       "      <th>WINS_RPM</th>\n",
       "      <th>PIE</th>\n",
       "      <th>PACE</th>\n",
       "      <th>W</th>\n",
       "      <th>SALARY_MILLIONS</th>\n",
       "      <th>PAGEVIEWS</th>\n",
       "      <th>TWITTER_FAVORITE_COUNT</th>\n",
       "      <th>TWITTER_RETWEET_COUNT</th>\n",
       "    </tr>\n",
       "  </thead>\n",
       "  <tbody>\n",
       "    <tr>\n",
       "      <td>0</td>\n",
       "      <td>0</td>\n",
       "      <td>1</td>\n",
       "      <td>Russell Westbrook</td>\n",
       "      <td>PG</td>\n",
       "      <td>28</td>\n",
       "      <td>34.6</td>\n",
       "      <td>10.2</td>\n",
       "      <td>24.0</td>\n",
       "      <td>0.425</td>\n",
       "      <td>2.5</td>\n",
       "      <td>...</td>\n",
       "      <td>-0.47</td>\n",
       "      <td>6.27</td>\n",
       "      <td>17.34</td>\n",
       "      <td>23.0</td>\n",
       "      <td>102.31</td>\n",
       "      <td>46</td>\n",
       "      <td>26.50</td>\n",
       "      <td>4279.0</td>\n",
       "      <td>2130.5</td>\n",
       "      <td>559.0</td>\n",
       "    </tr>\n",
       "    <tr>\n",
       "      <td>1</td>\n",
       "      <td>1</td>\n",
       "      <td>2</td>\n",
       "      <td>James Harden</td>\n",
       "      <td>PG</td>\n",
       "      <td>27</td>\n",
       "      <td>36.4</td>\n",
       "      <td>8.3</td>\n",
       "      <td>18.9</td>\n",
       "      <td>0.440</td>\n",
       "      <td>3.2</td>\n",
       "      <td>...</td>\n",
       "      <td>-1.57</td>\n",
       "      <td>4.81</td>\n",
       "      <td>15.54</td>\n",
       "      <td>19.0</td>\n",
       "      <td>102.98</td>\n",
       "      <td>54</td>\n",
       "      <td>26.50</td>\n",
       "      <td>3279.0</td>\n",
       "      <td>969.0</td>\n",
       "      <td>321.5</td>\n",
       "    </tr>\n",
       "    <tr>\n",
       "      <td>2</td>\n",
       "      <td>2</td>\n",
       "      <td>4</td>\n",
       "      <td>Anthony Davis</td>\n",
       "      <td>C</td>\n",
       "      <td>23</td>\n",
       "      <td>36.1</td>\n",
       "      <td>10.3</td>\n",
       "      <td>20.3</td>\n",
       "      <td>0.505</td>\n",
       "      <td>0.5</td>\n",
       "      <td>...</td>\n",
       "      <td>3.90</td>\n",
       "      <td>4.35</td>\n",
       "      <td>12.81</td>\n",
       "      <td>19.2</td>\n",
       "      <td>100.19</td>\n",
       "      <td>31</td>\n",
       "      <td>22.12</td>\n",
       "      <td>82.5</td>\n",
       "      <td>368.0</td>\n",
       "      <td>104.0</td>\n",
       "    </tr>\n",
       "    <tr>\n",
       "      <td>3</td>\n",
       "      <td>3</td>\n",
       "      <td>6</td>\n",
       "      <td>DeMarcus Cousins</td>\n",
       "      <td>C</td>\n",
       "      <td>26</td>\n",
       "      <td>34.2</td>\n",
       "      <td>9.0</td>\n",
       "      <td>19.9</td>\n",
       "      <td>0.452</td>\n",
       "      <td>1.8</td>\n",
       "      <td>...</td>\n",
       "      <td>0.64</td>\n",
       "      <td>4.20</td>\n",
       "      <td>11.26</td>\n",
       "      <td>17.8</td>\n",
       "      <td>97.11</td>\n",
       "      <td>30</td>\n",
       "      <td>16.96</td>\n",
       "      <td>1625.5</td>\n",
       "      <td>102.0</td>\n",
       "      <td>91.5</td>\n",
       "    </tr>\n",
       "    <tr>\n",
       "      <td>4</td>\n",
       "      <td>4</td>\n",
       "      <td>7</td>\n",
       "      <td>Damian Lillard</td>\n",
       "      <td>PG</td>\n",
       "      <td>26</td>\n",
       "      <td>35.9</td>\n",
       "      <td>8.8</td>\n",
       "      <td>19.8</td>\n",
       "      <td>0.444</td>\n",
       "      <td>2.9</td>\n",
       "      <td>...</td>\n",
       "      <td>-1.49</td>\n",
       "      <td>3.14</td>\n",
       "      <td>10.72</td>\n",
       "      <td>15.9</td>\n",
       "      <td>99.68</td>\n",
       "      <td>38</td>\n",
       "      <td>24.33</td>\n",
       "      <td>1830.5</td>\n",
       "      <td>186.5</td>\n",
       "      <td>43.0</td>\n",
       "    </tr>\n",
       "    <tr>\n",
       "      <td>5</td>\n",
       "      <td>5</td>\n",
       "      <td>8</td>\n",
       "      <td>LeBron James</td>\n",
       "      <td>SF</td>\n",
       "      <td>32</td>\n",
       "      <td>37.8</td>\n",
       "      <td>9.9</td>\n",
       "      <td>18.2</td>\n",
       "      <td>0.548</td>\n",
       "      <td>1.7</td>\n",
       "      <td>...</td>\n",
       "      <td>1.93</td>\n",
       "      <td>8.42</td>\n",
       "      <td>20.43</td>\n",
       "      <td>18.3</td>\n",
       "      <td>98.38</td>\n",
       "      <td>51</td>\n",
       "      <td>30.96</td>\n",
       "      <td>14704.0</td>\n",
       "      <td>5533.5</td>\n",
       "      <td>1501.5</td>\n",
       "    </tr>\n",
       "    <tr>\n",
       "      <td>6</td>\n",
       "      <td>6</td>\n",
       "      <td>9</td>\n",
       "      <td>Kawhi Leonard</td>\n",
       "      <td>SF</td>\n",
       "      <td>25</td>\n",
       "      <td>33.4</td>\n",
       "      <td>8.6</td>\n",
       "      <td>17.7</td>\n",
       "      <td>0.485</td>\n",
       "      <td>2.0</td>\n",
       "      <td>...</td>\n",
       "      <td>1.25</td>\n",
       "      <td>7.08</td>\n",
       "      <td>15.53</td>\n",
       "      <td>17.4</td>\n",
       "      <td>95.79</td>\n",
       "      <td>54</td>\n",
       "      <td>17.64</td>\n",
       "      <td>2446.5</td>\n",
       "      <td>2701.5</td>\n",
       "      <td>716.5</td>\n",
       "    </tr>\n",
       "    <tr>\n",
       "      <td>7</td>\n",
       "      <td>7</td>\n",
       "      <td>10</td>\n",
       "      <td>Stephen Curry</td>\n",
       "      <td>PG</td>\n",
       "      <td>28</td>\n",
       "      <td>33.4</td>\n",
       "      <td>8.5</td>\n",
       "      <td>18.3</td>\n",
       "      <td>0.468</td>\n",
       "      <td>4.1</td>\n",
       "      <td>...</td>\n",
       "      <td>0.14</td>\n",
       "      <td>7.41</td>\n",
       "      <td>18.80</td>\n",
       "      <td>15.1</td>\n",
       "      <td>105.08</td>\n",
       "      <td>65</td>\n",
       "      <td>12.11</td>\n",
       "      <td>17570.5</td>\n",
       "      <td>12278.0</td>\n",
       "      <td>2893.0</td>\n",
       "    </tr>\n",
       "    <tr>\n",
       "      <td>8</td>\n",
       "      <td>8</td>\n",
       "      <td>11</td>\n",
       "      <td>Kyrie Irving</td>\n",
       "      <td>PG</td>\n",
       "      <td>24</td>\n",
       "      <td>35.1</td>\n",
       "      <td>9.3</td>\n",
       "      <td>19.7</td>\n",
       "      <td>0.473</td>\n",
       "      <td>2.5</td>\n",
       "      <td>...</td>\n",
       "      <td>-2.30</td>\n",
       "      <td>2.05</td>\n",
       "      <td>8.28</td>\n",
       "      <td>13.5</td>\n",
       "      <td>99.12</td>\n",
       "      <td>47</td>\n",
       "      <td>17.64</td>\n",
       "      <td>4796.0</td>\n",
       "      <td>1541.0</td>\n",
       "      <td>695.0</td>\n",
       "    </tr>\n",
       "    <tr>\n",
       "      <td>9</td>\n",
       "      <td>9</td>\n",
       "      <td>12</td>\n",
       "      <td>Kevin Durant</td>\n",
       "      <td>SF</td>\n",
       "      <td>28</td>\n",
       "      <td>33.4</td>\n",
       "      <td>8.9</td>\n",
       "      <td>16.5</td>\n",
       "      <td>0.537</td>\n",
       "      <td>1.9</td>\n",
       "      <td>...</td>\n",
       "      <td>1.33</td>\n",
       "      <td>5.74</td>\n",
       "      <td>12.24</td>\n",
       "      <td>18.6</td>\n",
       "      <td>103.71</td>\n",
       "      <td>51</td>\n",
       "      <td>26.50</td>\n",
       "      <td>6288.5</td>\n",
       "      <td>1425.5</td>\n",
       "      <td>366.0</td>\n",
       "    </tr>\n",
       "  </tbody>\n",
       "</table>\n",
       "<p>10 rows × 42 columns</p>\n",
       "</div>"
      ],
      "text/plain": [
       "   Unnamed: 0  Rk             PLAYER POSITION  AGE    MP    FG   FGA    FG%  \\\n",
       "0           0   1  Russell Westbrook       PG   28  34.6  10.2  24.0  0.425   \n",
       "1           1   2       James Harden       PG   27  36.4   8.3  18.9  0.440   \n",
       "2           2   4      Anthony Davis        C   23  36.1  10.3  20.3  0.505   \n",
       "3           3   6   DeMarcus Cousins        C   26  34.2   9.0  19.9  0.452   \n",
       "4           4   7     Damian Lillard       PG   26  35.9   8.8  19.8  0.444   \n",
       "5           5   8       LeBron James       SF   32  37.8   9.9  18.2  0.548   \n",
       "6           6   9      Kawhi Leonard       SF   25  33.4   8.6  17.7  0.485   \n",
       "7           7  10      Stephen Curry       PG   28  33.4   8.5  18.3  0.468   \n",
       "8           8  11       Kyrie Irving       PG   24  35.1   9.3  19.7  0.473   \n",
       "9           9  12       Kevin Durant       SF   28  33.4   8.9  16.5  0.537   \n",
       "\n",
       "    3P  ...  DRPM   RPM  WINS_RPM   PIE    PACE   W  SALARY_MILLIONS  \\\n",
       "0  2.5  ... -0.47  6.27     17.34  23.0  102.31  46            26.50   \n",
       "1  3.2  ... -1.57  4.81     15.54  19.0  102.98  54            26.50   \n",
       "2  0.5  ...  3.90  4.35     12.81  19.2  100.19  31            22.12   \n",
       "3  1.8  ...  0.64  4.20     11.26  17.8   97.11  30            16.96   \n",
       "4  2.9  ... -1.49  3.14     10.72  15.9   99.68  38            24.33   \n",
       "5  1.7  ...  1.93  8.42     20.43  18.3   98.38  51            30.96   \n",
       "6  2.0  ...  1.25  7.08     15.53  17.4   95.79  54            17.64   \n",
       "7  4.1  ...  0.14  7.41     18.80  15.1  105.08  65            12.11   \n",
       "8  2.5  ... -2.30  2.05      8.28  13.5   99.12  47            17.64   \n",
       "9  1.9  ...  1.33  5.74     12.24  18.6  103.71  51            26.50   \n",
       "\n",
       "   PAGEVIEWS  TWITTER_FAVORITE_COUNT  TWITTER_RETWEET_COUNT  \n",
       "0     4279.0                  2130.5                  559.0  \n",
       "1     3279.0                   969.0                  321.5  \n",
       "2       82.5                   368.0                  104.0  \n",
       "3     1625.5                   102.0                   91.5  \n",
       "4     1830.5                   186.5                   43.0  \n",
       "5    14704.0                  5533.5                 1501.5  \n",
       "6     2446.5                  2701.5                  716.5  \n",
       "7    17570.5                 12278.0                 2893.0  \n",
       "8     4796.0                  1541.0                  695.0  \n",
       "9     6288.5                  1425.5                  366.0  \n",
       "\n",
       "[10 rows x 42 columns]"
      ]
     },
     "execution_count": 179,
     "metadata": {},
     "output_type": "execute_result"
    }
   ],
   "source": [
    "player_df = pd.read_csv('nba_2019_players_with_salary_wiki_twitter.csv')\n",
    "player_df.head(10)"
   ]
  },
  {
   "cell_type": "code",
   "execution_count": 180,
   "metadata": {
    "ExecuteTime": {
     "end_time": "2020-03-28T02:56:24.755754Z",
     "start_time": "2020-03-28T02:56:24.746659Z"
    }
   },
   "outputs": [
    {
     "data": {
      "text/plain": [
       "Index(['Unnamed: 0', 'Rk', 'PLAYER', 'POSITION', 'AGE', 'MP', 'FG', 'FGA',\n",
       "       'FG%', '3P', '3PA', '3P%', '2P', '2PA', '2P%', 'eFG%', 'FT', 'FTA',\n",
       "       'FT%', 'ORB', 'DRB', 'TRB', 'AST', 'STL', 'BLK', 'TOV', 'PF', 'POINTS',\n",
       "       'TEAM', 'GP', 'MPG', 'ORPM', 'DRPM', 'RPM', 'WINS_RPM', 'PIE', 'PACE',\n",
       "       'W', 'SALARY_MILLIONS', 'PAGEVIEWS', 'TWITTER_FAVORITE_COUNT',\n",
       "       'TWITTER_RETWEET_COUNT'],\n",
       "      dtype='object')"
      ]
     },
     "execution_count": 180,
     "metadata": {},
     "output_type": "execute_result"
    }
   ],
   "source": [
    "player_df.columns"
   ]
  },
  {
   "cell_type": "code",
   "execution_count": 181,
   "metadata": {
    "ExecuteTime": {
     "end_time": "2020-03-28T02:56:24.906061Z",
     "start_time": "2020-03-28T02:56:24.888609Z"
    }
   },
   "outputs": [
    {
     "name": "stdout",
     "output_type": "stream",
     "text": [
      "<class 'pandas.core.frame.DataFrame'>\n",
      "RangeIndex: 239 entries, 0 to 238\n",
      "Data columns (total 42 columns):\n",
      "Unnamed: 0                239 non-null int64\n",
      "Rk                        239 non-null int64\n",
      "PLAYER                    239 non-null object\n",
      "POSITION                  239 non-null object\n",
      "AGE                       239 non-null int64\n",
      "MP                        239 non-null float64\n",
      "FG                        239 non-null float64\n",
      "FGA                       239 non-null float64\n",
      "FG%                       239 non-null float64\n",
      "3P                        239 non-null float64\n",
      "3PA                       239 non-null float64\n",
      "3P%                       232 non-null float64\n",
      "2P                        239 non-null float64\n",
      "2PA                       239 non-null float64\n",
      "2P%                       239 non-null float64\n",
      "eFG%                      239 non-null float64\n",
      "FT                        239 non-null float64\n",
      "FTA                       239 non-null float64\n",
      "FT%                       237 non-null float64\n",
      "ORB                       239 non-null float64\n",
      "DRB                       239 non-null float64\n",
      "TRB                       239 non-null float64\n",
      "AST                       239 non-null float64\n",
      "STL                       239 non-null float64\n",
      "BLK                       239 non-null float64\n",
      "TOV                       239 non-null float64\n",
      "PF                        239 non-null float64\n",
      "POINTS                    239 non-null float64\n",
      "TEAM                      239 non-null object\n",
      "GP                        239 non-null int64\n",
      "MPG                       239 non-null float64\n",
      "ORPM                      239 non-null float64\n",
      "DRPM                      239 non-null float64\n",
      "RPM                       239 non-null float64\n",
      "WINS_RPM                  239 non-null float64\n",
      "PIE                       239 non-null float64\n",
      "PACE                      239 non-null float64\n",
      "W                         239 non-null int64\n",
      "SALARY_MILLIONS           239 non-null float64\n",
      "PAGEVIEWS                 239 non-null float64\n",
      "TWITTER_FAVORITE_COUNT    236 non-null float64\n",
      "TWITTER_RETWEET_COUNT     236 non-null float64\n",
      "dtypes: float64(34), int64(5), object(3)\n",
      "memory usage: 78.5+ KB\n"
     ]
    }
   ],
   "source": [
    "player_df.info()"
   ]
  },
  {
   "cell_type": "code",
   "execution_count": 182,
   "metadata": {
    "ExecuteTime": {
     "end_time": "2020-03-28T02:56:25.042237Z",
     "start_time": "2020-03-28T02:56:25.036120Z"
    }
   },
   "outputs": [
    {
     "data": {
      "text/plain": [
       "(239, 42)"
      ]
     },
     "execution_count": 182,
     "metadata": {},
     "output_type": "execute_result"
    }
   ],
   "source": [
    "player_df.shape"
   ]
  },
  {
   "cell_type": "markdown",
   "metadata": {},
   "source": [
    "We have an unnamed column and rk column with useless information. Let's drop it."
   ]
  },
  {
   "cell_type": "code",
   "execution_count": 183,
   "metadata": {
    "ExecuteTime": {
     "end_time": "2020-03-28T02:56:25.191853Z",
     "start_time": "2020-03-28T02:56:25.182489Z"
    }
   },
   "outputs": [],
   "source": [
    "filter_col = [col for col in player_df if col.startswith('Unnamed')]\n",
    "filter_col = [col for col in player_df if col.startswith('Rk')]\n",
    "player_df = player_df.drop(columns=filter_col)"
   ]
  },
  {
   "cell_type": "code",
   "execution_count": 184,
   "metadata": {
    "ExecuteTime": {
     "end_time": "2020-03-28T02:56:25.356007Z",
     "start_time": "2020-03-28T02:56:25.341870Z"
    }
   },
   "outputs": [
    {
     "data": {
      "text/plain": [
       "3P%                       2.92887\n",
       "TWITTER_RETWEET_COUNT     1.25523\n",
       "TWITTER_FAVORITE_COUNT    1.25523\n",
       "FT%                       0.83682\n",
       "POSITION                  0.00000\n",
       "AGE                       0.00000\n",
       "ORB                       0.00000\n",
       "FTA                       0.00000\n",
       "FT                        0.00000\n",
       "eFG%                      0.00000\n",
       "2P%                       0.00000\n",
       "2PA                       0.00000\n",
       "2P                        0.00000\n",
       "PLAYER                    0.00000\n",
       "DRB                       0.00000\n",
       "3P                        0.00000\n",
       "FG%                       0.00000\n",
       "FGA                       0.00000\n",
       "FG                        0.00000\n",
       "MP                        0.00000\n",
       "3PA                       0.00000\n",
       "TRB                       0.00000\n",
       "AST                       0.00000\n",
       "DRPM                      0.00000\n",
       "PAGEVIEWS                 0.00000\n",
       "SALARY_MILLIONS           0.00000\n",
       "W                         0.00000\n",
       "PACE                      0.00000\n",
       "PIE                       0.00000\n",
       "WINS_RPM                  0.00000\n",
       "RPM                       0.00000\n",
       "ORPM                      0.00000\n",
       "STL                       0.00000\n",
       "MPG                       0.00000\n",
       "GP                        0.00000\n",
       "TEAM                      0.00000\n",
       "POINTS                    0.00000\n",
       "PF                        0.00000\n",
       "TOV                       0.00000\n",
       "BLK                       0.00000\n",
       "Unnamed: 0                0.00000\n",
       "dtype: float64"
      ]
     },
     "execution_count": 184,
     "metadata": {},
     "output_type": "execute_result"
    }
   ],
   "source": [
    "missing_values = (player_df.isnull().sum() * 100 / len(player_df))\n",
    "missing_values.sort_values(ascending = False)"
   ]
  },
  {
   "cell_type": "markdown",
   "metadata": {},
   "source": [
    "Let's rename our columns deleting all the % symbols"
   ]
  },
  {
   "cell_type": "code",
   "execution_count": 185,
   "metadata": {
    "ExecuteTime": {
     "end_time": "2020-03-28T02:56:25.486935Z",
     "start_time": "2020-03-28T02:56:25.479985Z"
    }
   },
   "outputs": [],
   "source": [
    "player_df.rename(columns={'3P%': '3P',\n",
    "                          'FT%': 'FT',\n",
    "                          'eFG%': 'eFG',\n",
    "                          '2P%': '2P',\n",
    "                          'FG%': 'FG', \n",
    "                         }, inplace=True)"
   ]
  },
  {
   "cell_type": "code",
   "execution_count": 186,
   "metadata": {
    "ExecuteTime": {
     "end_time": "2020-03-28T02:56:25.659793Z",
     "start_time": "2020-03-28T02:56:25.622578Z"
    }
   },
   "outputs": [
    {
     "data": {
      "text/html": [
       "<div>\n",
       "<style scoped>\n",
       "    .dataframe tbody tr th:only-of-type {\n",
       "        vertical-align: middle;\n",
       "    }\n",
       "\n",
       "    .dataframe tbody tr th {\n",
       "        vertical-align: top;\n",
       "    }\n",
       "\n",
       "    .dataframe thead th {\n",
       "        text-align: right;\n",
       "    }\n",
       "</style>\n",
       "<table border=\"1\" class=\"dataframe\">\n",
       "  <thead>\n",
       "    <tr style=\"text-align: right;\">\n",
       "      <th></th>\n",
       "      <th>Unnamed: 0</th>\n",
       "      <th>PLAYER</th>\n",
       "      <th>POSITION</th>\n",
       "      <th>AGE</th>\n",
       "      <th>MP</th>\n",
       "      <th>FG</th>\n",
       "      <th>FGA</th>\n",
       "      <th>FG</th>\n",
       "      <th>3P</th>\n",
       "      <th>3PA</th>\n",
       "      <th>...</th>\n",
       "      <th>DRPM</th>\n",
       "      <th>RPM</th>\n",
       "      <th>WINS_RPM</th>\n",
       "      <th>PIE</th>\n",
       "      <th>PACE</th>\n",
       "      <th>W</th>\n",
       "      <th>SALARY_MILLIONS</th>\n",
       "      <th>PAGEVIEWS</th>\n",
       "      <th>TWITTER_FAVORITE_COUNT</th>\n",
       "      <th>TWITTER_RETWEET_COUNT</th>\n",
       "    </tr>\n",
       "  </thead>\n",
       "  <tbody>\n",
       "    <tr>\n",
       "      <td>0</td>\n",
       "      <td>0</td>\n",
       "      <td>Russell Westbrook</td>\n",
       "      <td>PG</td>\n",
       "      <td>28</td>\n",
       "      <td>34.6</td>\n",
       "      <td>10.2</td>\n",
       "      <td>24.0</td>\n",
       "      <td>0.425</td>\n",
       "      <td>2.5</td>\n",
       "      <td>7.2</td>\n",
       "      <td>...</td>\n",
       "      <td>-0.47</td>\n",
       "      <td>6.27</td>\n",
       "      <td>17.34</td>\n",
       "      <td>23.0</td>\n",
       "      <td>102.31</td>\n",
       "      <td>46</td>\n",
       "      <td>26.50</td>\n",
       "      <td>4279.0</td>\n",
       "      <td>2130.5</td>\n",
       "      <td>559.0</td>\n",
       "    </tr>\n",
       "    <tr>\n",
       "      <td>1</td>\n",
       "      <td>1</td>\n",
       "      <td>James Harden</td>\n",
       "      <td>PG</td>\n",
       "      <td>27</td>\n",
       "      <td>36.4</td>\n",
       "      <td>8.3</td>\n",
       "      <td>18.9</td>\n",
       "      <td>0.440</td>\n",
       "      <td>3.2</td>\n",
       "      <td>9.3</td>\n",
       "      <td>...</td>\n",
       "      <td>-1.57</td>\n",
       "      <td>4.81</td>\n",
       "      <td>15.54</td>\n",
       "      <td>19.0</td>\n",
       "      <td>102.98</td>\n",
       "      <td>54</td>\n",
       "      <td>26.50</td>\n",
       "      <td>3279.0</td>\n",
       "      <td>969.0</td>\n",
       "      <td>321.5</td>\n",
       "    </tr>\n",
       "    <tr>\n",
       "      <td>2</td>\n",
       "      <td>2</td>\n",
       "      <td>Anthony Davis</td>\n",
       "      <td>C</td>\n",
       "      <td>23</td>\n",
       "      <td>36.1</td>\n",
       "      <td>10.3</td>\n",
       "      <td>20.3</td>\n",
       "      <td>0.505</td>\n",
       "      <td>0.5</td>\n",
       "      <td>1.8</td>\n",
       "      <td>...</td>\n",
       "      <td>3.90</td>\n",
       "      <td>4.35</td>\n",
       "      <td>12.81</td>\n",
       "      <td>19.2</td>\n",
       "      <td>100.19</td>\n",
       "      <td>31</td>\n",
       "      <td>22.12</td>\n",
       "      <td>82.5</td>\n",
       "      <td>368.0</td>\n",
       "      <td>104.0</td>\n",
       "    </tr>\n",
       "    <tr>\n",
       "      <td>3</td>\n",
       "      <td>3</td>\n",
       "      <td>DeMarcus Cousins</td>\n",
       "      <td>C</td>\n",
       "      <td>26</td>\n",
       "      <td>34.2</td>\n",
       "      <td>9.0</td>\n",
       "      <td>19.9</td>\n",
       "      <td>0.452</td>\n",
       "      <td>1.8</td>\n",
       "      <td>5.0</td>\n",
       "      <td>...</td>\n",
       "      <td>0.64</td>\n",
       "      <td>4.20</td>\n",
       "      <td>11.26</td>\n",
       "      <td>17.8</td>\n",
       "      <td>97.11</td>\n",
       "      <td>30</td>\n",
       "      <td>16.96</td>\n",
       "      <td>1625.5</td>\n",
       "      <td>102.0</td>\n",
       "      <td>91.5</td>\n",
       "    </tr>\n",
       "    <tr>\n",
       "      <td>4</td>\n",
       "      <td>4</td>\n",
       "      <td>Damian Lillard</td>\n",
       "      <td>PG</td>\n",
       "      <td>26</td>\n",
       "      <td>35.9</td>\n",
       "      <td>8.8</td>\n",
       "      <td>19.8</td>\n",
       "      <td>0.444</td>\n",
       "      <td>2.9</td>\n",
       "      <td>7.7</td>\n",
       "      <td>...</td>\n",
       "      <td>-1.49</td>\n",
       "      <td>3.14</td>\n",
       "      <td>10.72</td>\n",
       "      <td>15.9</td>\n",
       "      <td>99.68</td>\n",
       "      <td>38</td>\n",
       "      <td>24.33</td>\n",
       "      <td>1830.5</td>\n",
       "      <td>186.5</td>\n",
       "      <td>43.0</td>\n",
       "    </tr>\n",
       "  </tbody>\n",
       "</table>\n",
       "<p>5 rows × 41 columns</p>\n",
       "</div>"
      ],
      "text/plain": [
       "   Unnamed: 0             PLAYER POSITION  AGE    MP    FG   FGA     FG   3P  \\\n",
       "0           0  Russell Westbrook       PG   28  34.6  10.2  24.0  0.425  2.5   \n",
       "1           1       James Harden       PG   27  36.4   8.3  18.9  0.440  3.2   \n",
       "2           2      Anthony Davis        C   23  36.1  10.3  20.3  0.505  0.5   \n",
       "3           3   DeMarcus Cousins        C   26  34.2   9.0  19.9  0.452  1.8   \n",
       "4           4     Damian Lillard       PG   26  35.9   8.8  19.8  0.444  2.9   \n",
       "\n",
       "   3PA  ...  DRPM   RPM  WINS_RPM   PIE    PACE   W  SALARY_MILLIONS  \\\n",
       "0  7.2  ... -0.47  6.27     17.34  23.0  102.31  46            26.50   \n",
       "1  9.3  ... -1.57  4.81     15.54  19.0  102.98  54            26.50   \n",
       "2  1.8  ...  3.90  4.35     12.81  19.2  100.19  31            22.12   \n",
       "3  5.0  ...  0.64  4.20     11.26  17.8   97.11  30            16.96   \n",
       "4  7.7  ... -1.49  3.14     10.72  15.9   99.68  38            24.33   \n",
       "\n",
       "   PAGEVIEWS  TWITTER_FAVORITE_COUNT  TWITTER_RETWEET_COUNT  \n",
       "0     4279.0                  2130.5                  559.0  \n",
       "1     3279.0                   969.0                  321.5  \n",
       "2       82.5                   368.0                  104.0  \n",
       "3     1625.5                   102.0                   91.5  \n",
       "4     1830.5                   186.5                   43.0  \n",
       "\n",
       "[5 rows x 41 columns]"
      ]
     },
     "execution_count": 186,
     "metadata": {},
     "output_type": "execute_result"
    }
   ],
   "source": [
    "player_df.head()"
   ]
  },
  {
   "cell_type": "markdown",
   "metadata": {},
   "source": [
    "We have a complete dataset without practically any 'NaN' cell and with important parameters like:\n",
    "\n",
    "- Player: Name\n",
    "\n",
    "- MP: Minutes Played\n",
    "\n",
    "- FG%: Field Goal Percentage\n",
    "\n",
    "- AST: Assists\n",
    "\n",
    "- SALARY_MILLIONS: Sallary millions ($)\n",
    "\n",
    "- RPM\n",
    "\n",
    "- MPG: Minutes per game\n",
    "\n",
    "- GP: Games Played\n",
    "\n",
    "- POINTS: Points per player "
   ]
  },
  {
   "cell_type": "code",
   "execution_count": 187,
   "metadata": {
    "ExecuteTime": {
     "end_time": "2020-03-28T02:56:25.852984Z",
     "start_time": "2020-03-28T02:56:25.792277Z"
    }
   },
   "outputs": [
    {
     "data": {
      "text/html": [
       "<div>\n",
       "<style scoped>\n",
       "    .dataframe tbody tr th:only-of-type {\n",
       "        vertical-align: middle;\n",
       "    }\n",
       "\n",
       "    .dataframe tbody tr th {\n",
       "        vertical-align: top;\n",
       "    }\n",
       "\n",
       "    .dataframe thead th {\n",
       "        text-align: right;\n",
       "    }\n",
       "</style>\n",
       "<table border=\"1\" class=\"dataframe\">\n",
       "  <thead>\n",
       "    <tr style=\"text-align: right;\">\n",
       "      <th></th>\n",
       "      <th>Unnamed: 0</th>\n",
       "      <th>AGE</th>\n",
       "      <th>MP</th>\n",
       "      <th>FG</th>\n",
       "      <th>FGA</th>\n",
       "      <th>FG</th>\n",
       "      <th>3P</th>\n",
       "      <th>3PA</th>\n",
       "      <th>3P</th>\n",
       "      <th>2P</th>\n",
       "      <th>...</th>\n",
       "      <th>DRPM</th>\n",
       "      <th>RPM</th>\n",
       "      <th>WINS_RPM</th>\n",
       "      <th>PIE</th>\n",
       "      <th>PACE</th>\n",
       "      <th>W</th>\n",
       "      <th>SALARY_MILLIONS</th>\n",
       "      <th>PAGEVIEWS</th>\n",
       "      <th>TWITTER_FAVORITE_COUNT</th>\n",
       "      <th>TWITTER_RETWEET_COUNT</th>\n",
       "    </tr>\n",
       "  </thead>\n",
       "  <tbody>\n",
       "    <tr>\n",
       "      <td>Unnamed: 0</td>\n",
       "      <td>1.000000</td>\n",
       "      <td>-0.014174</td>\n",
       "      <td>-0.917031</td>\n",
       "      <td>-0.955201</td>\n",
       "      <td>-0.950543</td>\n",
       "      <td>-0.268824</td>\n",
       "      <td>-0.636238</td>\n",
       "      <td>-0.630349</td>\n",
       "      <td>-0.327503</td>\n",
       "      <td>-0.868831</td>\n",
       "      <td>...</td>\n",
       "      <td>0.081296</td>\n",
       "      <td>-0.582355</td>\n",
       "      <td>-0.681676</td>\n",
       "      <td>-0.717908</td>\n",
       "      <td>-0.195656</td>\n",
       "      <td>-0.449722</td>\n",
       "      <td>-0.595502</td>\n",
       "      <td>-0.341672</td>\n",
       "      <td>-0.284844</td>\n",
       "      <td>-0.294997</td>\n",
       "    </tr>\n",
       "    <tr>\n",
       "      <td>AGE</td>\n",
       "      <td>-0.014174</td>\n",
       "      <td>1.000000</td>\n",
       "      <td>0.052484</td>\n",
       "      <td>-0.006908</td>\n",
       "      <td>-0.018904</td>\n",
       "      <td>0.129123</td>\n",
       "      <td>0.053500</td>\n",
       "      <td>0.021440</td>\n",
       "      <td>0.027471</td>\n",
       "      <td>-0.033056</td>\n",
       "      <td>...</td>\n",
       "      <td>0.158563</td>\n",
       "      <td>0.207790</td>\n",
       "      <td>0.122101</td>\n",
       "      <td>0.113873</td>\n",
       "      <td>-0.034182</td>\n",
       "      <td>0.092175</td>\n",
       "      <td>0.354779</td>\n",
       "      <td>0.166699</td>\n",
       "      <td>0.048082</td>\n",
       "      <td>0.008563</td>\n",
       "    </tr>\n",
       "    <tr>\n",
       "      <td>MP</td>\n",
       "      <td>-0.917031</td>\n",
       "      <td>0.052484</td>\n",
       "      <td>1.000000</td>\n",
       "      <td>0.868258</td>\n",
       "      <td>0.871265</td>\n",
       "      <td>0.234976</td>\n",
       "      <td>0.596199</td>\n",
       "      <td>0.599654</td>\n",
       "      <td>0.297564</td>\n",
       "      <td>0.783183</td>\n",
       "      <td>...</td>\n",
       "      <td>0.019536</td>\n",
       "      <td>0.573235</td>\n",
       "      <td>0.694806</td>\n",
       "      <td>0.565987</td>\n",
       "      <td>0.157995</td>\n",
       "      <td>0.486120</td>\n",
       "      <td>0.577275</td>\n",
       "      <td>0.304930</td>\n",
       "      <td>0.214218</td>\n",
       "      <td>0.215855</td>\n",
       "    </tr>\n",
       "    <tr>\n",
       "      <td>FG</td>\n",
       "      <td>-0.955201</td>\n",
       "      <td>-0.006908</td>\n",
       "      <td>0.868258</td>\n",
       "      <td>1.000000</td>\n",
       "      <td>0.978105</td>\n",
       "      <td>0.300325</td>\n",
       "      <td>0.590194</td>\n",
       "      <td>0.584178</td>\n",
       "      <td>0.275942</td>\n",
       "      <td>0.941072</td>\n",
       "      <td>...</td>\n",
       "      <td>-0.060317</td>\n",
       "      <td>0.604333</td>\n",
       "      <td>0.721438</td>\n",
       "      <td>0.765449</td>\n",
       "      <td>0.175686</td>\n",
       "      <td>0.427651</td>\n",
       "      <td>0.630978</td>\n",
       "      <td>0.434746</td>\n",
       "      <td>0.347159</td>\n",
       "      <td>0.352017</td>\n",
       "    </tr>\n",
       "    <tr>\n",
       "      <td>FGA</td>\n",
       "      <td>-0.950543</td>\n",
       "      <td>-0.018904</td>\n",
       "      <td>0.871265</td>\n",
       "      <td>0.978105</td>\n",
       "      <td>1.000000</td>\n",
       "      <td>0.128217</td>\n",
       "      <td>0.672944</td>\n",
       "      <td>0.681072</td>\n",
       "      <td>0.353632</td>\n",
       "      <td>0.880942</td>\n",
       "      <td>...</td>\n",
       "      <td>-0.139709</td>\n",
       "      <td>0.543622</td>\n",
       "      <td>0.676531</td>\n",
       "      <td>0.688969</td>\n",
       "      <td>0.178010</td>\n",
       "      <td>0.389270</td>\n",
       "      <td>0.615622</td>\n",
       "      <td>0.410507</td>\n",
       "      <td>0.331997</td>\n",
       "      <td>0.336884</td>\n",
       "    </tr>\n",
       "    <tr>\n",
       "      <td>FG</td>\n",
       "      <td>-0.268824</td>\n",
       "      <td>0.129123</td>\n",
       "      <td>0.234976</td>\n",
       "      <td>0.300325</td>\n",
       "      <td>0.128217</td>\n",
       "      <td>1.000000</td>\n",
       "      <td>-0.189882</td>\n",
       "      <td>-0.249493</td>\n",
       "      <td>-0.332643</td>\n",
       "      <td>0.435590</td>\n",
       "      <td>...</td>\n",
       "      <td>0.294782</td>\n",
       "      <td>0.359526</td>\n",
       "      <td>0.302050</td>\n",
       "      <td>0.532211</td>\n",
       "      <td>0.055676</td>\n",
       "      <td>0.286450</td>\n",
       "      <td>0.206219</td>\n",
       "      <td>0.122981</td>\n",
       "      <td>0.078011</td>\n",
       "      <td>0.081683</td>\n",
       "    </tr>\n",
       "    <tr>\n",
       "      <td>3P</td>\n",
       "      <td>-0.636238</td>\n",
       "      <td>0.053500</td>\n",
       "      <td>0.596199</td>\n",
       "      <td>0.590194</td>\n",
       "      <td>0.672944</td>\n",
       "      <td>-0.189882</td>\n",
       "      <td>1.000000</td>\n",
       "      <td>0.987919</td>\n",
       "      <td>0.611364</td>\n",
       "      <td>0.283150</td>\n",
       "      <td>...</td>\n",
       "      <td>-0.322161</td>\n",
       "      <td>0.400825</td>\n",
       "      <td>0.489492</td>\n",
       "      <td>0.291259</td>\n",
       "      <td>0.215440</td>\n",
       "      <td>0.347177</td>\n",
       "      <td>0.358943</td>\n",
       "      <td>0.360652</td>\n",
       "      <td>0.325250</td>\n",
       "      <td>0.235959</td>\n",
       "    </tr>\n",
       "    <tr>\n",
       "      <td>3PA</td>\n",
       "      <td>-0.630349</td>\n",
       "      <td>0.021440</td>\n",
       "      <td>0.599654</td>\n",
       "      <td>0.584178</td>\n",
       "      <td>0.681072</td>\n",
       "      <td>-0.249493</td>\n",
       "      <td>0.987919</td>\n",
       "      <td>1.000000</td>\n",
       "      <td>0.591970</td>\n",
       "      <td>0.280841</td>\n",
       "      <td>...</td>\n",
       "      <td>-0.330731</td>\n",
       "      <td>0.377633</td>\n",
       "      <td>0.482586</td>\n",
       "      <td>0.265635</td>\n",
       "      <td>0.232275</td>\n",
       "      <td>0.328095</td>\n",
       "      <td>0.351533</td>\n",
       "      <td>0.344331</td>\n",
       "      <td>0.304563</td>\n",
       "      <td>0.223190</td>\n",
       "    </tr>\n",
       "    <tr>\n",
       "      <td>3P</td>\n",
       "      <td>-0.327503</td>\n",
       "      <td>0.027471</td>\n",
       "      <td>0.297564</td>\n",
       "      <td>0.275942</td>\n",
       "      <td>0.353632</td>\n",
       "      <td>-0.332643</td>\n",
       "      <td>0.611364</td>\n",
       "      <td>0.591970</td>\n",
       "      <td>1.000000</td>\n",
       "      <td>0.072061</td>\n",
       "      <td>...</td>\n",
       "      <td>-0.278990</td>\n",
       "      <td>0.141162</td>\n",
       "      <td>0.174999</td>\n",
       "      <td>0.089535</td>\n",
       "      <td>0.061785</td>\n",
       "      <td>0.223490</td>\n",
       "      <td>0.161030</td>\n",
       "      <td>0.109670</td>\n",
       "      <td>0.111462</td>\n",
       "      <td>0.069343</td>\n",
       "    </tr>\n",
       "    <tr>\n",
       "      <td>2P</td>\n",
       "      <td>-0.868831</td>\n",
       "      <td>-0.033056</td>\n",
       "      <td>0.783183</td>\n",
       "      <td>0.941072</td>\n",
       "      <td>0.880942</td>\n",
       "      <td>0.435590</td>\n",
       "      <td>0.283150</td>\n",
       "      <td>0.280841</td>\n",
       "      <td>0.072061</td>\n",
       "      <td>1.000000</td>\n",
       "      <td>...</td>\n",
       "      <td>0.061305</td>\n",
       "      <td>0.549015</td>\n",
       "      <td>0.651291</td>\n",
       "      <td>0.786668</td>\n",
       "      <td>0.118710</td>\n",
       "      <td>0.361855</td>\n",
       "      <td>0.598556</td>\n",
       "      <td>0.366933</td>\n",
       "      <td>0.275777</td>\n",
       "      <td>0.318836</td>\n",
       "    </tr>\n",
       "    <tr>\n",
       "      <td>2PA</td>\n",
       "      <td>-0.877210</td>\n",
       "      <td>-0.036721</td>\n",
       "      <td>0.791999</td>\n",
       "      <td>0.938586</td>\n",
       "      <td>0.912965</td>\n",
       "      <td>0.304751</td>\n",
       "      <td>0.319303</td>\n",
       "      <td>0.323162</td>\n",
       "      <td>0.127900</td>\n",
       "      <td>0.981951</td>\n",
       "      <td>...</td>\n",
       "      <td>0.004706</td>\n",
       "      <td>0.492024</td>\n",
       "      <td>0.605189</td>\n",
       "      <td>0.742677</td>\n",
       "      <td>0.099918</td>\n",
       "      <td>0.319000</td>\n",
       "      <td>0.598910</td>\n",
       "      <td>0.337867</td>\n",
       "      <td>0.258169</td>\n",
       "      <td>0.309487</td>\n",
       "    </tr>\n",
       "    <tr>\n",
       "      <td>2P</td>\n",
       "      <td>-0.185842</td>\n",
       "      <td>0.102997</td>\n",
       "      <td>0.179616</td>\n",
       "      <td>0.215113</td>\n",
       "      <td>0.072792</td>\n",
       "      <td>0.861096</td>\n",
       "      <td>-0.089789</td>\n",
       "      <td>-0.108496</td>\n",
       "      <td>-0.281561</td>\n",
       "      <td>0.292785</td>\n",
       "      <td>...</td>\n",
       "      <td>0.211592</td>\n",
       "      <td>0.317281</td>\n",
       "      <td>0.280199</td>\n",
       "      <td>0.388746</td>\n",
       "      <td>0.142239</td>\n",
       "      <td>0.239480</td>\n",
       "      <td>0.123748</td>\n",
       "      <td>0.122252</td>\n",
       "      <td>0.082139</td>\n",
       "      <td>0.068108</td>\n",
       "    </tr>\n",
       "    <tr>\n",
       "      <td>eFG</td>\n",
       "      <td>-0.353145</td>\n",
       "      <td>0.175796</td>\n",
       "      <td>0.327115</td>\n",
       "      <td>0.337059</td>\n",
       "      <td>0.200982</td>\n",
       "      <td>0.858902</td>\n",
       "      <td>0.198707</td>\n",
       "      <td>0.126310</td>\n",
       "      <td>0.024175</td>\n",
       "      <td>0.316338</td>\n",
       "      <td>...</td>\n",
       "      <td>0.133267</td>\n",
       "      <td>0.431958</td>\n",
       "      <td>0.377955</td>\n",
       "      <td>0.493032</td>\n",
       "      <td>0.127902</td>\n",
       "      <td>0.410954</td>\n",
       "      <td>0.202042</td>\n",
       "      <td>0.173634</td>\n",
       "      <td>0.131774</td>\n",
       "      <td>0.095461</td>\n",
       "    </tr>\n",
       "    <tr>\n",
       "      <td>FT</td>\n",
       "      <td>-0.802578</td>\n",
       "      <td>-0.008348</td>\n",
       "      <td>0.708825</td>\n",
       "      <td>0.848165</td>\n",
       "      <td>0.846667</td>\n",
       "      <td>0.183664</td>\n",
       "      <td>0.478068</td>\n",
       "      <td>0.487683</td>\n",
       "      <td>0.200471</td>\n",
       "      <td>0.807261</td>\n",
       "      <td>...</td>\n",
       "      <td>0.016181</td>\n",
       "      <td>0.621969</td>\n",
       "      <td>0.723831</td>\n",
       "      <td>0.763130</td>\n",
       "      <td>0.165244</td>\n",
       "      <td>0.294767</td>\n",
       "      <td>0.623383</td>\n",
       "      <td>0.372972</td>\n",
       "      <td>0.348120</td>\n",
       "      <td>0.353693</td>\n",
       "    </tr>\n",
       "    <tr>\n",
       "      <td>FTA</td>\n",
       "      <td>-0.801572</td>\n",
       "      <td>-0.016697</td>\n",
       "      <td>0.716814</td>\n",
       "      <td>0.848763</td>\n",
       "      <td>0.833963</td>\n",
       "      <td>0.238568</td>\n",
       "      <td>0.418644</td>\n",
       "      <td>0.428244</td>\n",
       "      <td>0.137864</td>\n",
       "      <td>0.833044</td>\n",
       "      <td>...</td>\n",
       "      <td>0.068410</td>\n",
       "      <td>0.628098</td>\n",
       "      <td>0.726313</td>\n",
       "      <td>0.771692</td>\n",
       "      <td>0.168756</td>\n",
       "      <td>0.302038</td>\n",
       "      <td>0.621370</td>\n",
       "      <td>0.381592</td>\n",
       "      <td>0.346071</td>\n",
       "      <td>0.351957</td>\n",
       "    </tr>\n",
       "    <tr>\n",
       "      <td>FT</td>\n",
       "      <td>-0.421165</td>\n",
       "      <td>0.093564</td>\n",
       "      <td>0.307356</td>\n",
       "      <td>0.360038</td>\n",
       "      <td>0.414900</td>\n",
       "      <td>-0.135849</td>\n",
       "      <td>0.510833</td>\n",
       "      <td>0.507789</td>\n",
       "      <td>0.472423</td>\n",
       "      <td>0.211126</td>\n",
       "      <td>...</td>\n",
       "      <td>-0.320311</td>\n",
       "      <td>0.186458</td>\n",
       "      <td>0.229464</td>\n",
       "      <td>0.267922</td>\n",
       "      <td>0.040189</td>\n",
       "      <td>0.142140</td>\n",
       "      <td>0.246079</td>\n",
       "      <td>0.116999</td>\n",
       "      <td>0.137890</td>\n",
       "      <td>0.141501</td>\n",
       "    </tr>\n",
       "    <tr>\n",
       "      <td>ORB</td>\n",
       "      <td>-0.292606</td>\n",
       "      <td>0.001723</td>\n",
       "      <td>0.309125</td>\n",
       "      <td>0.322992</td>\n",
       "      <td>0.197579</td>\n",
       "      <td>0.612407</td>\n",
       "      <td>-0.313400</td>\n",
       "      <td>-0.322988</td>\n",
       "      <td>-0.398879</td>\n",
       "      <td>0.513625</td>\n",
       "      <td>...</td>\n",
       "      <td>0.471048</td>\n",
       "      <td>0.362534</td>\n",
       "      <td>0.346462</td>\n",
       "      <td>0.496484</td>\n",
       "      <td>0.034271</td>\n",
       "      <td>0.206570</td>\n",
       "      <td>0.235378</td>\n",
       "      <td>0.073683</td>\n",
       "      <td>0.059010</td>\n",
       "      <td>0.083946</td>\n",
       "    </tr>\n",
       "    <tr>\n",
       "      <td>DRB</td>\n",
       "      <td>-0.625108</td>\n",
       "      <td>0.088608</td>\n",
       "      <td>0.639875</td>\n",
       "      <td>0.645538</td>\n",
       "      <td>0.572256</td>\n",
       "      <td>0.439924</td>\n",
       "      <td>0.135166</td>\n",
       "      <td>0.138530</td>\n",
       "      <td>-0.026485</td>\n",
       "      <td>0.709457</td>\n",
       "      <td>...</td>\n",
       "      <td>0.454222</td>\n",
       "      <td>0.619221</td>\n",
       "      <td>0.657377</td>\n",
       "      <td>0.727411</td>\n",
       "      <td>0.139655</td>\n",
       "      <td>0.341986</td>\n",
       "      <td>0.533587</td>\n",
       "      <td>0.287527</td>\n",
       "      <td>0.207721</td>\n",
       "      <td>0.191388</td>\n",
       "    </tr>\n",
       "    <tr>\n",
       "      <td>TRB</td>\n",
       "      <td>-0.556007</td>\n",
       "      <td>0.067192</td>\n",
       "      <td>0.572616</td>\n",
       "      <td>0.581322</td>\n",
       "      <td>0.486925</td>\n",
       "      <td>0.521090</td>\n",
       "      <td>0.000352</td>\n",
       "      <td>-0.000318</td>\n",
       "      <td>-0.148505</td>\n",
       "      <td>0.689403</td>\n",
       "      <td>...</td>\n",
       "      <td>0.486298</td>\n",
       "      <td>0.574434</td>\n",
       "      <td>0.597597</td>\n",
       "      <td>0.696694</td>\n",
       "      <td>0.115487</td>\n",
       "      <td>0.318066</td>\n",
       "      <td>0.472329</td>\n",
       "      <td>0.237012</td>\n",
       "      <td>0.172096</td>\n",
       "      <td>0.167446</td>\n",
       "    </tr>\n",
       "    <tr>\n",
       "      <td>AST</td>\n",
       "      <td>-0.629783</td>\n",
       "      <td>0.087005</td>\n",
       "      <td>0.637612</td>\n",
       "      <td>0.633682</td>\n",
       "      <td>0.674722</td>\n",
       "      <td>-0.003438</td>\n",
       "      <td>0.487793</td>\n",
       "      <td>0.505938</td>\n",
       "      <td>0.271460</td>\n",
       "      <td>0.551009</td>\n",
       "      <td>...</td>\n",
       "      <td>-0.084302</td>\n",
       "      <td>0.513766</td>\n",
       "      <td>0.617456</td>\n",
       "      <td>0.564153</td>\n",
       "      <td>0.168769</td>\n",
       "      <td>0.317333</td>\n",
       "      <td>0.503913</td>\n",
       "      <td>0.399928</td>\n",
       "      <td>0.288694</td>\n",
       "      <td>0.258436</td>\n",
       "    </tr>\n",
       "    <tr>\n",
       "      <td>STL</td>\n",
       "      <td>-0.637816</td>\n",
       "      <td>0.046190</td>\n",
       "      <td>0.727598</td>\n",
       "      <td>0.606542</td>\n",
       "      <td>0.625249</td>\n",
       "      <td>0.106002</td>\n",
       "      <td>0.447854</td>\n",
       "      <td>0.461515</td>\n",
       "      <td>0.219560</td>\n",
       "      <td>0.534416</td>\n",
       "      <td>...</td>\n",
       "      <td>0.177544</td>\n",
       "      <td>0.596358</td>\n",
       "      <td>0.659305</td>\n",
       "      <td>0.460564</td>\n",
       "      <td>0.174248</td>\n",
       "      <td>0.375811</td>\n",
       "      <td>0.453844</td>\n",
       "      <td>0.297304</td>\n",
       "      <td>0.249538</td>\n",
       "      <td>0.199578</td>\n",
       "    </tr>\n",
       "    <tr>\n",
       "      <td>BLK</td>\n",
       "      <td>-0.339454</td>\n",
       "      <td>-0.069304</td>\n",
       "      <td>0.351875</td>\n",
       "      <td>0.365248</td>\n",
       "      <td>0.270860</td>\n",
       "      <td>0.448249</td>\n",
       "      <td>-0.115296</td>\n",
       "      <td>-0.122410</td>\n",
       "      <td>-0.200572</td>\n",
       "      <td>0.480898</td>\n",
       "      <td>...</td>\n",
       "      <td>0.542387</td>\n",
       "      <td>0.435012</td>\n",
       "      <td>0.419684</td>\n",
       "      <td>0.452087</td>\n",
       "      <td>0.054998</td>\n",
       "      <td>0.241303</td>\n",
       "      <td>0.228916</td>\n",
       "      <td>0.097976</td>\n",
       "      <td>0.174221</td>\n",
       "      <td>0.214496</td>\n",
       "    </tr>\n",
       "    <tr>\n",
       "      <td>TOV</td>\n",
       "      <td>-0.766864</td>\n",
       "      <td>-0.000097</td>\n",
       "      <td>0.720182</td>\n",
       "      <td>0.794979</td>\n",
       "      <td>0.809145</td>\n",
       "      <td>0.151993</td>\n",
       "      <td>0.455789</td>\n",
       "      <td>0.473348</td>\n",
       "      <td>0.185131</td>\n",
       "      <td>0.755248</td>\n",
       "      <td>...</td>\n",
       "      <td>-0.025291</td>\n",
       "      <td>0.504129</td>\n",
       "      <td>0.618639</td>\n",
       "      <td>0.680956</td>\n",
       "      <td>0.224170</td>\n",
       "      <td>0.294469</td>\n",
       "      <td>0.538096</td>\n",
       "      <td>0.422810</td>\n",
       "      <td>0.375892</td>\n",
       "      <td>0.386081</td>\n",
       "    </tr>\n",
       "    <tr>\n",
       "      <td>PF</td>\n",
       "      <td>-0.528465</td>\n",
       "      <td>-0.046816</td>\n",
       "      <td>0.592657</td>\n",
       "      <td>0.495759</td>\n",
       "      <td>0.455541</td>\n",
       "      <td>0.355591</td>\n",
       "      <td>0.138800</td>\n",
       "      <td>0.138559</td>\n",
       "      <td>-0.021955</td>\n",
       "      <td>0.530902</td>\n",
       "      <td>...</td>\n",
       "      <td>0.310113</td>\n",
       "      <td>0.404193</td>\n",
       "      <td>0.414621</td>\n",
       "      <td>0.352910</td>\n",
       "      <td>0.144202</td>\n",
       "      <td>0.273007</td>\n",
       "      <td>0.257797</td>\n",
       "      <td>0.130674</td>\n",
       "      <td>0.143709</td>\n",
       "      <td>0.143303</td>\n",
       "    </tr>\n",
       "    <tr>\n",
       "      <td>POINTS</td>\n",
       "      <td>-0.949470</td>\n",
       "      <td>-0.000041</td>\n",
       "      <td>0.860738</td>\n",
       "      <td>0.986767</td>\n",
       "      <td>0.981495</td>\n",
       "      <td>0.232745</td>\n",
       "      <td>0.657179</td>\n",
       "      <td>0.654099</td>\n",
       "      <td>0.318631</td>\n",
       "      <td>0.897332</td>\n",
       "      <td>...</td>\n",
       "      <td>-0.077700</td>\n",
       "      <td>0.629701</td>\n",
       "      <td>0.748621</td>\n",
       "      <td>0.763753</td>\n",
       "      <td>0.190973</td>\n",
       "      <td>0.416984</td>\n",
       "      <td>0.643019</td>\n",
       "      <td>0.443809</td>\n",
       "      <td>0.371122</td>\n",
       "      <td>0.363922</td>\n",
       "    </tr>\n",
       "    <tr>\n",
       "      <td>GP</td>\n",
       "      <td>-0.536892</td>\n",
       "      <td>-0.030200</td>\n",
       "      <td>0.586568</td>\n",
       "      <td>0.486909</td>\n",
       "      <td>0.462206</td>\n",
       "      <td>0.275174</td>\n",
       "      <td>0.335984</td>\n",
       "      <td>0.331894</td>\n",
       "      <td>0.231946</td>\n",
       "      <td>0.437922</td>\n",
       "      <td>...</td>\n",
       "      <td>-0.069914</td>\n",
       "      <td>0.329237</td>\n",
       "      <td>0.452251</td>\n",
       "      <td>0.348319</td>\n",
       "      <td>0.166757</td>\n",
       "      <td>0.808676</td>\n",
       "      <td>0.296519</td>\n",
       "      <td>0.142441</td>\n",
       "      <td>0.064293</td>\n",
       "      <td>0.049068</td>\n",
       "    </tr>\n",
       "    <tr>\n",
       "      <td>MPG</td>\n",
       "      <td>-0.917011</td>\n",
       "      <td>0.052635</td>\n",
       "      <td>1.000000</td>\n",
       "      <td>0.868224</td>\n",
       "      <td>0.871240</td>\n",
       "      <td>0.234936</td>\n",
       "      <td>0.596227</td>\n",
       "      <td>0.599682</td>\n",
       "      <td>0.297593</td>\n",
       "      <td>0.783130</td>\n",
       "      <td>...</td>\n",
       "      <td>0.019532</td>\n",
       "      <td>0.573260</td>\n",
       "      <td>0.694815</td>\n",
       "      <td>0.565958</td>\n",
       "      <td>0.157928</td>\n",
       "      <td>0.486134</td>\n",
       "      <td>0.577243</td>\n",
       "      <td>0.304989</td>\n",
       "      <td>0.214204</td>\n",
       "      <td>0.215840</td>\n",
       "    </tr>\n",
       "    <tr>\n",
       "      <td>ORPM</td>\n",
       "      <td>-0.753375</td>\n",
       "      <td>0.133345</td>\n",
       "      <td>0.669673</td>\n",
       "      <td>0.764440</td>\n",
       "      <td>0.749359</td>\n",
       "      <td>0.215963</td>\n",
       "      <td>0.710795</td>\n",
       "      <td>0.689319</td>\n",
       "      <td>0.368937</td>\n",
       "      <td>0.610617</td>\n",
       "      <td>...</td>\n",
       "      <td>-0.068339</td>\n",
       "      <td>0.796953</td>\n",
       "      <td>0.827497</td>\n",
       "      <td>0.690827</td>\n",
       "      <td>0.191646</td>\n",
       "      <td>0.516303</td>\n",
       "      <td>0.533787</td>\n",
       "      <td>0.468543</td>\n",
       "      <td>0.382727</td>\n",
       "      <td>0.305623</td>\n",
       "    </tr>\n",
       "    <tr>\n",
       "      <td>DRPM</td>\n",
       "      <td>0.081296</td>\n",
       "      <td>0.158563</td>\n",
       "      <td>0.019536</td>\n",
       "      <td>-0.060317</td>\n",
       "      <td>-0.139709</td>\n",
       "      <td>0.294782</td>\n",
       "      <td>-0.322161</td>\n",
       "      <td>-0.330731</td>\n",
       "      <td>-0.278990</td>\n",
       "      <td>0.061305</td>\n",
       "      <td>...</td>\n",
       "      <td>1.000000</td>\n",
       "      <td>0.548166</td>\n",
       "      <td>0.397123</td>\n",
       "      <td>0.209069</td>\n",
       "      <td>-0.080249</td>\n",
       "      <td>0.119576</td>\n",
       "      <td>0.116146</td>\n",
       "      <td>0.034727</td>\n",
       "      <td>0.073919</td>\n",
       "      <td>0.017593</td>\n",
       "    </tr>\n",
       "    <tr>\n",
       "      <td>RPM</td>\n",
       "      <td>-0.582355</td>\n",
       "      <td>0.207790</td>\n",
       "      <td>0.573235</td>\n",
       "      <td>0.604333</td>\n",
       "      <td>0.543622</td>\n",
       "      <td>0.359526</td>\n",
       "      <td>0.400825</td>\n",
       "      <td>0.377633</td>\n",
       "      <td>0.141162</td>\n",
       "      <td>0.549015</td>\n",
       "      <td>...</td>\n",
       "      <td>0.548166</td>\n",
       "      <td>1.000000</td>\n",
       "      <td>0.934156</td>\n",
       "      <td>0.705723</td>\n",
       "      <td>0.112076</td>\n",
       "      <td>0.505230</td>\n",
       "      <td>0.517810</td>\n",
       "      <td>0.413819</td>\n",
       "      <td>0.364701</td>\n",
       "      <td>0.266111</td>\n",
       "    </tr>\n",
       "    <tr>\n",
       "      <td>WINS_RPM</td>\n",
       "      <td>-0.681676</td>\n",
       "      <td>0.122101</td>\n",
       "      <td>0.694806</td>\n",
       "      <td>0.721438</td>\n",
       "      <td>0.676531</td>\n",
       "      <td>0.302050</td>\n",
       "      <td>0.489492</td>\n",
       "      <td>0.482586</td>\n",
       "      <td>0.174999</td>\n",
       "      <td>0.651291</td>\n",
       "      <td>...</td>\n",
       "      <td>0.397123</td>\n",
       "      <td>0.934156</td>\n",
       "      <td>1.000000</td>\n",
       "      <td>0.711981</td>\n",
       "      <td>0.154019</td>\n",
       "      <td>0.578750</td>\n",
       "      <td>0.579560</td>\n",
       "      <td>0.488104</td>\n",
       "      <td>0.403483</td>\n",
       "      <td>0.293767</td>\n",
       "    </tr>\n",
       "    <tr>\n",
       "      <td>PIE</td>\n",
       "      <td>-0.717908</td>\n",
       "      <td>0.113873</td>\n",
       "      <td>0.565987</td>\n",
       "      <td>0.765449</td>\n",
       "      <td>0.688969</td>\n",
       "      <td>0.532211</td>\n",
       "      <td>0.291259</td>\n",
       "      <td>0.265635</td>\n",
       "      <td>0.089535</td>\n",
       "      <td>0.786668</td>\n",
       "      <td>...</td>\n",
       "      <td>0.209069</td>\n",
       "      <td>0.705723</td>\n",
       "      <td>0.711981</td>\n",
       "      <td>1.000000</td>\n",
       "      <td>0.091034</td>\n",
       "      <td>0.377978</td>\n",
       "      <td>0.577111</td>\n",
       "      <td>0.382384</td>\n",
       "      <td>0.337458</td>\n",
       "      <td>0.320848</td>\n",
       "    </tr>\n",
       "    <tr>\n",
       "      <td>PACE</td>\n",
       "      <td>-0.195656</td>\n",
       "      <td>-0.034182</td>\n",
       "      <td>0.157995</td>\n",
       "      <td>0.175686</td>\n",
       "      <td>0.178010</td>\n",
       "      <td>0.055676</td>\n",
       "      <td>0.215440</td>\n",
       "      <td>0.232275</td>\n",
       "      <td>0.061785</td>\n",
       "      <td>0.118710</td>\n",
       "      <td>...</td>\n",
       "      <td>-0.080249</td>\n",
       "      <td>0.112076</td>\n",
       "      <td>0.154019</td>\n",
       "      <td>0.091034</td>\n",
       "      <td>1.000000</td>\n",
       "      <td>0.077376</td>\n",
       "      <td>0.082129</td>\n",
       "      <td>0.192775</td>\n",
       "      <td>0.179187</td>\n",
       "      <td>0.158755</td>\n",
       "    </tr>\n",
       "    <tr>\n",
       "      <td>W</td>\n",
       "      <td>-0.449722</td>\n",
       "      <td>0.092175</td>\n",
       "      <td>0.486120</td>\n",
       "      <td>0.427651</td>\n",
       "      <td>0.389270</td>\n",
       "      <td>0.286450</td>\n",
       "      <td>0.347177</td>\n",
       "      <td>0.328095</td>\n",
       "      <td>0.223490</td>\n",
       "      <td>0.361855</td>\n",
       "      <td>...</td>\n",
       "      <td>0.119576</td>\n",
       "      <td>0.505230</td>\n",
       "      <td>0.578750</td>\n",
       "      <td>0.377978</td>\n",
       "      <td>0.077376</td>\n",
       "      <td>1.000000</td>\n",
       "      <td>0.353315</td>\n",
       "      <td>0.278746</td>\n",
       "      <td>0.192512</td>\n",
       "      <td>0.122165</td>\n",
       "    </tr>\n",
       "    <tr>\n",
       "      <td>SALARY_MILLIONS</td>\n",
       "      <td>-0.595502</td>\n",
       "      <td>0.354779</td>\n",
       "      <td>0.577275</td>\n",
       "      <td>0.630978</td>\n",
       "      <td>0.615622</td>\n",
       "      <td>0.206219</td>\n",
       "      <td>0.358943</td>\n",
       "      <td>0.351533</td>\n",
       "      <td>0.161030</td>\n",
       "      <td>0.598556</td>\n",
       "      <td>...</td>\n",
       "      <td>0.116146</td>\n",
       "      <td>0.517810</td>\n",
       "      <td>0.579560</td>\n",
       "      <td>0.577111</td>\n",
       "      <td>0.082129</td>\n",
       "      <td>0.353315</td>\n",
       "      <td>1.000000</td>\n",
       "      <td>0.420632</td>\n",
       "      <td>0.237160</td>\n",
       "      <td>0.240484</td>\n",
       "    </tr>\n",
       "    <tr>\n",
       "      <td>PAGEVIEWS</td>\n",
       "      <td>-0.341672</td>\n",
       "      <td>0.166699</td>\n",
       "      <td>0.304930</td>\n",
       "      <td>0.434746</td>\n",
       "      <td>0.410507</td>\n",
       "      <td>0.122981</td>\n",
       "      <td>0.360652</td>\n",
       "      <td>0.344331</td>\n",
       "      <td>0.109670</td>\n",
       "      <td>0.366933</td>\n",
       "      <td>...</td>\n",
       "      <td>0.034727</td>\n",
       "      <td>0.413819</td>\n",
       "      <td>0.488104</td>\n",
       "      <td>0.382384</td>\n",
       "      <td>0.192775</td>\n",
       "      <td>0.278746</td>\n",
       "      <td>0.420632</td>\n",
       "      <td>1.000000</td>\n",
       "      <td>0.814250</td>\n",
       "      <td>0.666798</td>\n",
       "    </tr>\n",
       "    <tr>\n",
       "      <td>TWITTER_FAVORITE_COUNT</td>\n",
       "      <td>-0.284844</td>\n",
       "      <td>0.048082</td>\n",
       "      <td>0.214218</td>\n",
       "      <td>0.347159</td>\n",
       "      <td>0.331997</td>\n",
       "      <td>0.078011</td>\n",
       "      <td>0.325250</td>\n",
       "      <td>0.304563</td>\n",
       "      <td>0.111462</td>\n",
       "      <td>0.275777</td>\n",
       "      <td>...</td>\n",
       "      <td>0.073919</td>\n",
       "      <td>0.364701</td>\n",
       "      <td>0.403483</td>\n",
       "      <td>0.337458</td>\n",
       "      <td>0.179187</td>\n",
       "      <td>0.192512</td>\n",
       "      <td>0.237160</td>\n",
       "      <td>0.814250</td>\n",
       "      <td>1.000000</td>\n",
       "      <td>0.890148</td>\n",
       "    </tr>\n",
       "    <tr>\n",
       "      <td>TWITTER_RETWEET_COUNT</td>\n",
       "      <td>-0.294997</td>\n",
       "      <td>0.008563</td>\n",
       "      <td>0.215855</td>\n",
       "      <td>0.352017</td>\n",
       "      <td>0.336884</td>\n",
       "      <td>0.081683</td>\n",
       "      <td>0.235959</td>\n",
       "      <td>0.223190</td>\n",
       "      <td>0.069343</td>\n",
       "      <td>0.318836</td>\n",
       "      <td>...</td>\n",
       "      <td>0.017593</td>\n",
       "      <td>0.266111</td>\n",
       "      <td>0.293767</td>\n",
       "      <td>0.320848</td>\n",
       "      <td>0.158755</td>\n",
       "      <td>0.122165</td>\n",
       "      <td>0.240484</td>\n",
       "      <td>0.666798</td>\n",
       "      <td>0.890148</td>\n",
       "      <td>1.000000</td>\n",
       "    </tr>\n",
       "  </tbody>\n",
       "</table>\n",
       "<p>38 rows × 38 columns</p>\n",
       "</div>"
      ],
      "text/plain": [
       "                        Unnamed: 0       AGE        MP        FG       FGA  \\\n",
       "Unnamed: 0                1.000000 -0.014174 -0.917031 -0.955201 -0.950543   \n",
       "AGE                      -0.014174  1.000000  0.052484 -0.006908 -0.018904   \n",
       "MP                       -0.917031  0.052484  1.000000  0.868258  0.871265   \n",
       "FG                       -0.955201 -0.006908  0.868258  1.000000  0.978105   \n",
       "FGA                      -0.950543 -0.018904  0.871265  0.978105  1.000000   \n",
       "FG                       -0.268824  0.129123  0.234976  0.300325  0.128217   \n",
       "3P                       -0.636238  0.053500  0.596199  0.590194  0.672944   \n",
       "3PA                      -0.630349  0.021440  0.599654  0.584178  0.681072   \n",
       "3P                       -0.327503  0.027471  0.297564  0.275942  0.353632   \n",
       "2P                       -0.868831 -0.033056  0.783183  0.941072  0.880942   \n",
       "2PA                      -0.877210 -0.036721  0.791999  0.938586  0.912965   \n",
       "2P                       -0.185842  0.102997  0.179616  0.215113  0.072792   \n",
       "eFG                      -0.353145  0.175796  0.327115  0.337059  0.200982   \n",
       "FT                       -0.802578 -0.008348  0.708825  0.848165  0.846667   \n",
       "FTA                      -0.801572 -0.016697  0.716814  0.848763  0.833963   \n",
       "FT                       -0.421165  0.093564  0.307356  0.360038  0.414900   \n",
       "ORB                      -0.292606  0.001723  0.309125  0.322992  0.197579   \n",
       "DRB                      -0.625108  0.088608  0.639875  0.645538  0.572256   \n",
       "TRB                      -0.556007  0.067192  0.572616  0.581322  0.486925   \n",
       "AST                      -0.629783  0.087005  0.637612  0.633682  0.674722   \n",
       "STL                      -0.637816  0.046190  0.727598  0.606542  0.625249   \n",
       "BLK                      -0.339454 -0.069304  0.351875  0.365248  0.270860   \n",
       "TOV                      -0.766864 -0.000097  0.720182  0.794979  0.809145   \n",
       "PF                       -0.528465 -0.046816  0.592657  0.495759  0.455541   \n",
       "POINTS                   -0.949470 -0.000041  0.860738  0.986767  0.981495   \n",
       "GP                       -0.536892 -0.030200  0.586568  0.486909  0.462206   \n",
       "MPG                      -0.917011  0.052635  1.000000  0.868224  0.871240   \n",
       "ORPM                     -0.753375  0.133345  0.669673  0.764440  0.749359   \n",
       "DRPM                      0.081296  0.158563  0.019536 -0.060317 -0.139709   \n",
       "RPM                      -0.582355  0.207790  0.573235  0.604333  0.543622   \n",
       "WINS_RPM                 -0.681676  0.122101  0.694806  0.721438  0.676531   \n",
       "PIE                      -0.717908  0.113873  0.565987  0.765449  0.688969   \n",
       "PACE                     -0.195656 -0.034182  0.157995  0.175686  0.178010   \n",
       "W                        -0.449722  0.092175  0.486120  0.427651  0.389270   \n",
       "SALARY_MILLIONS          -0.595502  0.354779  0.577275  0.630978  0.615622   \n",
       "PAGEVIEWS                -0.341672  0.166699  0.304930  0.434746  0.410507   \n",
       "TWITTER_FAVORITE_COUNT   -0.284844  0.048082  0.214218  0.347159  0.331997   \n",
       "TWITTER_RETWEET_COUNT    -0.294997  0.008563  0.215855  0.352017  0.336884   \n",
       "\n",
       "                              FG        3P       3PA        3P        2P  ...  \\\n",
       "Unnamed: 0             -0.268824 -0.636238 -0.630349 -0.327503 -0.868831  ...   \n",
       "AGE                     0.129123  0.053500  0.021440  0.027471 -0.033056  ...   \n",
       "MP                      0.234976  0.596199  0.599654  0.297564  0.783183  ...   \n",
       "FG                      0.300325  0.590194  0.584178  0.275942  0.941072  ...   \n",
       "FGA                     0.128217  0.672944  0.681072  0.353632  0.880942  ...   \n",
       "FG                      1.000000 -0.189882 -0.249493 -0.332643  0.435590  ...   \n",
       "3P                     -0.189882  1.000000  0.987919  0.611364  0.283150  ...   \n",
       "3PA                    -0.249493  0.987919  1.000000  0.591970  0.280841  ...   \n",
       "3P                     -0.332643  0.611364  0.591970  1.000000  0.072061  ...   \n",
       "2P                      0.435590  0.283150  0.280841  0.072061  1.000000  ...   \n",
       "2PA                     0.304751  0.319303  0.323162  0.127900  0.981951  ...   \n",
       "2P                      0.861096 -0.089789 -0.108496 -0.281561  0.292785  ...   \n",
       "eFG                     0.858902  0.198707  0.126310  0.024175  0.316338  ...   \n",
       "FT                      0.183664  0.478068  0.487683  0.200471  0.807261  ...   \n",
       "FTA                     0.238568  0.418644  0.428244  0.137864  0.833044  ...   \n",
       "FT                     -0.135849  0.510833  0.507789  0.472423  0.211126  ...   \n",
       "ORB                     0.612407 -0.313400 -0.322988 -0.398879  0.513625  ...   \n",
       "DRB                     0.439924  0.135166  0.138530 -0.026485  0.709457  ...   \n",
       "TRB                     0.521090  0.000352 -0.000318 -0.148505  0.689403  ...   \n",
       "AST                    -0.003438  0.487793  0.505938  0.271460  0.551009  ...   \n",
       "STL                     0.106002  0.447854  0.461515  0.219560  0.534416  ...   \n",
       "BLK                     0.448249 -0.115296 -0.122410 -0.200572  0.480898  ...   \n",
       "TOV                     0.151993  0.455789  0.473348  0.185131  0.755248  ...   \n",
       "PF                      0.355591  0.138800  0.138559 -0.021955  0.530902  ...   \n",
       "POINTS                  0.232745  0.657179  0.654099  0.318631  0.897332  ...   \n",
       "GP                      0.275174  0.335984  0.331894  0.231946  0.437922  ...   \n",
       "MPG                     0.234936  0.596227  0.599682  0.297593  0.783130  ...   \n",
       "ORPM                    0.215963  0.710795  0.689319  0.368937  0.610617  ...   \n",
       "DRPM                    0.294782 -0.322161 -0.330731 -0.278990  0.061305  ...   \n",
       "RPM                     0.359526  0.400825  0.377633  0.141162  0.549015  ...   \n",
       "WINS_RPM                0.302050  0.489492  0.482586  0.174999  0.651291  ...   \n",
       "PIE                     0.532211  0.291259  0.265635  0.089535  0.786668  ...   \n",
       "PACE                    0.055676  0.215440  0.232275  0.061785  0.118710  ...   \n",
       "W                       0.286450  0.347177  0.328095  0.223490  0.361855  ...   \n",
       "SALARY_MILLIONS         0.206219  0.358943  0.351533  0.161030  0.598556  ...   \n",
       "PAGEVIEWS               0.122981  0.360652  0.344331  0.109670  0.366933  ...   \n",
       "TWITTER_FAVORITE_COUNT  0.078011  0.325250  0.304563  0.111462  0.275777  ...   \n",
       "TWITTER_RETWEET_COUNT   0.081683  0.235959  0.223190  0.069343  0.318836  ...   \n",
       "\n",
       "                            DRPM       RPM  WINS_RPM       PIE      PACE  \\\n",
       "Unnamed: 0              0.081296 -0.582355 -0.681676 -0.717908 -0.195656   \n",
       "AGE                     0.158563  0.207790  0.122101  0.113873 -0.034182   \n",
       "MP                      0.019536  0.573235  0.694806  0.565987  0.157995   \n",
       "FG                     -0.060317  0.604333  0.721438  0.765449  0.175686   \n",
       "FGA                    -0.139709  0.543622  0.676531  0.688969  0.178010   \n",
       "FG                      0.294782  0.359526  0.302050  0.532211  0.055676   \n",
       "3P                     -0.322161  0.400825  0.489492  0.291259  0.215440   \n",
       "3PA                    -0.330731  0.377633  0.482586  0.265635  0.232275   \n",
       "3P                     -0.278990  0.141162  0.174999  0.089535  0.061785   \n",
       "2P                      0.061305  0.549015  0.651291  0.786668  0.118710   \n",
       "2PA                     0.004706  0.492024  0.605189  0.742677  0.099918   \n",
       "2P                      0.211592  0.317281  0.280199  0.388746  0.142239   \n",
       "eFG                     0.133267  0.431958  0.377955  0.493032  0.127902   \n",
       "FT                      0.016181  0.621969  0.723831  0.763130  0.165244   \n",
       "FTA                     0.068410  0.628098  0.726313  0.771692  0.168756   \n",
       "FT                     -0.320311  0.186458  0.229464  0.267922  0.040189   \n",
       "ORB                     0.471048  0.362534  0.346462  0.496484  0.034271   \n",
       "DRB                     0.454222  0.619221  0.657377  0.727411  0.139655   \n",
       "TRB                     0.486298  0.574434  0.597597  0.696694  0.115487   \n",
       "AST                    -0.084302  0.513766  0.617456  0.564153  0.168769   \n",
       "STL                     0.177544  0.596358  0.659305  0.460564  0.174248   \n",
       "BLK                     0.542387  0.435012  0.419684  0.452087  0.054998   \n",
       "TOV                    -0.025291  0.504129  0.618639  0.680956  0.224170   \n",
       "PF                      0.310113  0.404193  0.414621  0.352910  0.144202   \n",
       "POINTS                 -0.077700  0.629701  0.748621  0.763753  0.190973   \n",
       "GP                     -0.069914  0.329237  0.452251  0.348319  0.166757   \n",
       "MPG                     0.019532  0.573260  0.694815  0.565958  0.157928   \n",
       "ORPM                   -0.068339  0.796953  0.827497  0.690827  0.191646   \n",
       "DRPM                    1.000000  0.548166  0.397123  0.209069 -0.080249   \n",
       "RPM                     0.548166  1.000000  0.934156  0.705723  0.112076   \n",
       "WINS_RPM                0.397123  0.934156  1.000000  0.711981  0.154019   \n",
       "PIE                     0.209069  0.705723  0.711981  1.000000  0.091034   \n",
       "PACE                   -0.080249  0.112076  0.154019  0.091034  1.000000   \n",
       "W                       0.119576  0.505230  0.578750  0.377978  0.077376   \n",
       "SALARY_MILLIONS         0.116146  0.517810  0.579560  0.577111  0.082129   \n",
       "PAGEVIEWS               0.034727  0.413819  0.488104  0.382384  0.192775   \n",
       "TWITTER_FAVORITE_COUNT  0.073919  0.364701  0.403483  0.337458  0.179187   \n",
       "TWITTER_RETWEET_COUNT   0.017593  0.266111  0.293767  0.320848  0.158755   \n",
       "\n",
       "                               W  SALARY_MILLIONS  PAGEVIEWS  \\\n",
       "Unnamed: 0             -0.449722        -0.595502  -0.341672   \n",
       "AGE                     0.092175         0.354779   0.166699   \n",
       "MP                      0.486120         0.577275   0.304930   \n",
       "FG                      0.427651         0.630978   0.434746   \n",
       "FGA                     0.389270         0.615622   0.410507   \n",
       "FG                      0.286450         0.206219   0.122981   \n",
       "3P                      0.347177         0.358943   0.360652   \n",
       "3PA                     0.328095         0.351533   0.344331   \n",
       "3P                      0.223490         0.161030   0.109670   \n",
       "2P                      0.361855         0.598556   0.366933   \n",
       "2PA                     0.319000         0.598910   0.337867   \n",
       "2P                      0.239480         0.123748   0.122252   \n",
       "eFG                     0.410954         0.202042   0.173634   \n",
       "FT                      0.294767         0.623383   0.372972   \n",
       "FTA                     0.302038         0.621370   0.381592   \n",
       "FT                      0.142140         0.246079   0.116999   \n",
       "ORB                     0.206570         0.235378   0.073683   \n",
       "DRB                     0.341986         0.533587   0.287527   \n",
       "TRB                     0.318066         0.472329   0.237012   \n",
       "AST                     0.317333         0.503913   0.399928   \n",
       "STL                     0.375811         0.453844   0.297304   \n",
       "BLK                     0.241303         0.228916   0.097976   \n",
       "TOV                     0.294469         0.538096   0.422810   \n",
       "PF                      0.273007         0.257797   0.130674   \n",
       "POINTS                  0.416984         0.643019   0.443809   \n",
       "GP                      0.808676         0.296519   0.142441   \n",
       "MPG                     0.486134         0.577243   0.304989   \n",
       "ORPM                    0.516303         0.533787   0.468543   \n",
       "DRPM                    0.119576         0.116146   0.034727   \n",
       "RPM                     0.505230         0.517810   0.413819   \n",
       "WINS_RPM                0.578750         0.579560   0.488104   \n",
       "PIE                     0.377978         0.577111   0.382384   \n",
       "PACE                    0.077376         0.082129   0.192775   \n",
       "W                       1.000000         0.353315   0.278746   \n",
       "SALARY_MILLIONS         0.353315         1.000000   0.420632   \n",
       "PAGEVIEWS               0.278746         0.420632   1.000000   \n",
       "TWITTER_FAVORITE_COUNT  0.192512         0.237160   0.814250   \n",
       "TWITTER_RETWEET_COUNT   0.122165         0.240484   0.666798   \n",
       "\n",
       "                        TWITTER_FAVORITE_COUNT  TWITTER_RETWEET_COUNT  \n",
       "Unnamed: 0                           -0.284844              -0.294997  \n",
       "AGE                                   0.048082               0.008563  \n",
       "MP                                    0.214218               0.215855  \n",
       "FG                                    0.347159               0.352017  \n",
       "FGA                                   0.331997               0.336884  \n",
       "FG                                    0.078011               0.081683  \n",
       "3P                                    0.325250               0.235959  \n",
       "3PA                                   0.304563               0.223190  \n",
       "3P                                    0.111462               0.069343  \n",
       "2P                                    0.275777               0.318836  \n",
       "2PA                                   0.258169               0.309487  \n",
       "2P                                    0.082139               0.068108  \n",
       "eFG                                   0.131774               0.095461  \n",
       "FT                                    0.348120               0.353693  \n",
       "FTA                                   0.346071               0.351957  \n",
       "FT                                    0.137890               0.141501  \n",
       "ORB                                   0.059010               0.083946  \n",
       "DRB                                   0.207721               0.191388  \n",
       "TRB                                   0.172096               0.167446  \n",
       "AST                                   0.288694               0.258436  \n",
       "STL                                   0.249538               0.199578  \n",
       "BLK                                   0.174221               0.214496  \n",
       "TOV                                   0.375892               0.386081  \n",
       "PF                                    0.143709               0.143303  \n",
       "POINTS                                0.371122               0.363922  \n",
       "GP                                    0.064293               0.049068  \n",
       "MPG                                   0.214204               0.215840  \n",
       "ORPM                                  0.382727               0.305623  \n",
       "DRPM                                  0.073919               0.017593  \n",
       "RPM                                   0.364701               0.266111  \n",
       "WINS_RPM                              0.403483               0.293767  \n",
       "PIE                                   0.337458               0.320848  \n",
       "PACE                                  0.179187               0.158755  \n",
       "W                                     0.192512               0.122165  \n",
       "SALARY_MILLIONS                       0.237160               0.240484  \n",
       "PAGEVIEWS                             0.814250               0.666798  \n",
       "TWITTER_FAVORITE_COUNT                1.000000               0.890148  \n",
       "TWITTER_RETWEET_COUNT                 0.890148               1.000000  \n",
       "\n",
       "[38 rows x 38 columns]"
      ]
     },
     "execution_count": 187,
     "metadata": {},
     "output_type": "execute_result"
    }
   ],
   "source": [
    "player_df.corr()"
   ]
  },
  {
   "cell_type": "markdown",
   "metadata": {},
   "source": [
    "### Let's answer some of our questions. \n",
    "### Exists a correlation between MPG (minutes played per game) and RPM?"
   ]
  },
  {
   "cell_type": "code",
   "execution_count": 188,
   "metadata": {
    "ExecuteTime": {
     "end_time": "2020-03-28T02:56:26.569672Z",
     "start_time": "2020-03-28T02:56:25.980093Z"
    }
   },
   "outputs": [
    {
     "data": {
      "text/plain": [
       "<matplotlib.axes._subplots.AxesSubplot at 0x1c2fd27610>"
      ]
     },
     "execution_count": 188,
     "metadata": {},
     "output_type": "execute_result"
    },
    {
     "data": {
      "image/png": "[encoded data removed]",
      "text/plain": [
       "<Figure size 1080x576 with 1 Axes>"
      ]
     },
     "metadata": {
      "needs_background": "light"
     },
     "output_type": "display_data"
    }
   ],
   "source": [
    "plt.figure(figsize=(15,8))\n",
    "sns.regplot(x=\"MPG\", y=\"WINS_RPM\", data=player_df)"
   ]
  },
  {
   "cell_type": "markdown",
   "metadata": {},
   "source": [
    "In the regression plot showed above, seems there is a correlation between RPM and Minutes played. We can see how if a player play around 15-25 MPG their correlation is better. \n",
    "\n",
    "However if a player is on the court more than 30 minutes or less than 10 minutes we lost this optimum correlation."
   ]
  },
  {
   "cell_type": "markdown",
   "metadata": {},
   "source": [
    "Let's check this relationship, their parameters and strength:"
   ]
  },
  {
   "cell_type": "code",
   "execution_count": 189,
   "metadata": {
    "ExecuteTime": {
     "end_time": "2020-03-28T02:56:26.746727Z",
     "start_time": "2020-03-28T02:56:26.709662Z"
    }
   },
   "outputs": [
    {
     "name": "stdout",
     "output_type": "stream",
     "text": [
      "                            OLS Regression Results                            \n",
      "==============================================================================\n",
      "Dep. Variable:               WINS_RPM   R-squared:                       0.483\n",
      "Model:                            OLS   Adj. R-squared:                  0.481\n",
      "Method:                 Least Squares   F-statistic:                     221.2\n",
      "Date:                Sat, 28 Mar 2020   Prob (F-statistic):           8.78e-36\n",
      "Time:                        03:56:26   Log-Likelihood:                -603.08\n",
      "No. Observations:                 239   AIC:                             1210.\n",
      "Df Residuals:                     237   BIC:                             1217.\n",
      "Df Model:                           1                                         \n",
      "Covariance Type:            nonrobust                                         \n",
      "==============================================================================\n",
      "                 coef    std err          t      P>|t|      [0.025      0.975]\n",
      "------------------------------------------------------------------------------\n",
      "Intercept     -4.4785      0.568     -7.885      0.000      -5.597      -3.360\n",
      "MP             0.3426      0.023     14.873      0.000       0.297       0.388\n",
      "==============================================================================\n",
      "Omnibus:                       46.226   Durbin-Watson:                   1.217\n",
      "Prob(Omnibus):                  0.000   Jarque-Bera (JB):              112.071\n",
      "Skew:                           0.885   Prob(JB):                     4.61e-25\n",
      "Kurtosis:                       5.850   Cond. No.                         71.5\n",
      "==============================================================================\n",
      "\n",
      "Warnings:\n",
      "[1] Standard Errors assume that the covariance matrix of the errors is correctly specified.\n"
     ]
    }
   ],
   "source": [
    "minutes = smf.ols('WINS_RPM ~ MP', data=player_df).fit()\n",
    "print(minutes.summary())"
   ]
  },
  {
   "cell_type": "markdown",
   "metadata": {},
   "source": [
    "R-squared -> 0.481\n",
    "Minutes played may not be the best predictor of player's RPM, we observe a weak positive correlation."
   ]
  },
  {
   "cell_type": "markdown",
   "metadata": {
    "ExecuteTime": {
     "end_time": "2020-03-28T00:56:41.000822Z",
     "start_time": "2020-03-28T00:56:40.965004Z"
    }
   },
   "source": [
    "But..."
   ]
  },
  {
   "cell_type": "markdown",
   "metadata": {},
   "source": [
    "What will happens if we add the player position as a RPM predictor combined with Minutes Played?"
   ]
  },
  {
   "cell_type": "code",
   "execution_count": 190,
   "metadata": {
    "ExecuteTime": {
     "end_time": "2020-03-28T02:56:26.941898Z",
     "start_time": "2020-03-28T02:56:26.899139Z"
    }
   },
   "outputs": [
    {
     "name": "stdout",
     "output_type": "stream",
     "text": [
      "                            OLS Regression Results                            \n",
      "==============================================================================\n",
      "Dep. Variable:               WINS_RPM   R-squared:                       0.531\n",
      "Model:                            OLS   Adj. R-squared:                  0.521\n",
      "Method:                 Least Squares   F-statistic:                     52.87\n",
      "Date:                Sat, 28 Mar 2020   Prob (F-statistic):           1.64e-36\n",
      "Time:                        03:56:26   Log-Likelihood:                -591.26\n",
      "No. Observations:                 239   AIC:                             1195.\n",
      "Df Residuals:                     233   BIC:                             1215.\n",
      "Df Model:                           5                                         \n",
      "Covariance Type:            nonrobust                                         \n",
      "==================================================================================\n",
      "                     coef    std err          t      P>|t|      [0.025      0.975]\n",
      "----------------------------------------------------------------------------------\n",
      "Intercept         -3.6846      0.674     -5.465      0.000      -5.013      -2.356\n",
      "POSITION[T.PF]    -0.5946      0.602     -0.987      0.325      -1.782       0.592\n",
      "POSITION[T.PG]    -0.9435      0.607     -1.555      0.121      -2.139       0.252\n",
      "POSITION[T.SF]    -0.9107      0.621     -1.467      0.144      -2.133       0.312\n",
      "POSITION[T.SG]    -2.8050      0.613     -4.579      0.000      -4.012      -1.598\n",
      "MP                 0.3544      0.023     15.548      0.000       0.309       0.399\n",
      "==============================================================================\n",
      "Omnibus:                       50.504   Durbin-Watson:                   1.233\n",
      "Prob(Omnibus):                  0.000   Jarque-Bera (JB):              126.191\n",
      "Skew:                           0.955   Prob(JB):                     3.96e-28\n",
      "Kurtosis:                       6.005   Cond. No.                         141.\n",
      "==============================================================================\n",
      "\n",
      "Warnings:\n",
      "[1] Standard Errors assume that the covariance matrix of the errors is correctly specified.\n"
     ]
    }
   ],
   "source": [
    "minutes = smf.ols('WINS_RPM ~ MP + POSITION', data=player_df).fit()\n",
    "print(minutes.summary())"
   ]
  },
  {
   "cell_type": "markdown",
   "metadata": {},
   "source": [
    "Well, we observe a better correlation. Position has a little influence in our initial correlation."
   ]
  },
  {
   "cell_type": "markdown",
   "metadata": {},
   "source": [
    "### What's more important to determine RPM of a player? Defensive or offensive attributes?"
   ]
  },
  {
   "cell_type": "markdown",
   "metadata": {},
   "source": [
    "First of all, we are going to create defensive and offensive subsets to work with them separately:"
   ]
  },
  {
   "cell_type": "markdown",
   "metadata": {},
   "source": [
    "We are going to create a DataFrame with the most important deffensive parameters:\n",
    "- DRB: Deffensive Rebounds\n",
    "\n",
    "- STL: Steals\n",
    "\n",
    "- BLK: Blocks\n",
    "\n",
    "- RPM"
   ]
  },
  {
   "cell_type": "code",
   "execution_count": 191,
   "metadata": {
    "ExecuteTime": {
     "end_time": "2020-03-28T02:56:27.124886Z",
     "start_time": "2020-03-28T02:56:27.101667Z"
    }
   },
   "outputs": [
    {
     "data": {
      "text/html": [
       "<div>\n",
       "<style scoped>\n",
       "    .dataframe tbody tr th:only-of-type {\n",
       "        vertical-align: middle;\n",
       "    }\n",
       "\n",
       "    .dataframe tbody tr th {\n",
       "        vertical-align: top;\n",
       "    }\n",
       "\n",
       "    .dataframe thead th {\n",
       "        text-align: right;\n",
       "    }\n",
       "</style>\n",
       "<table border=\"1\" class=\"dataframe\">\n",
       "  <thead>\n",
       "    <tr style=\"text-align: right;\">\n",
       "      <th></th>\n",
       "      <th>PLAYER</th>\n",
       "      <th>DRB</th>\n",
       "      <th>STL</th>\n",
       "      <th>BLK</th>\n",
       "      <th>WINS_RPM</th>\n",
       "    </tr>\n",
       "  </thead>\n",
       "  <tbody>\n",
       "    <tr>\n",
       "      <td>0</td>\n",
       "      <td>Russell Westbrook</td>\n",
       "      <td>9.0</td>\n",
       "      <td>1.6</td>\n",
       "      <td>0.4</td>\n",
       "      <td>17.34</td>\n",
       "    </tr>\n",
       "    <tr>\n",
       "      <td>1</td>\n",
       "      <td>James Harden</td>\n",
       "      <td>7.0</td>\n",
       "      <td>1.5</td>\n",
       "      <td>0.5</td>\n",
       "      <td>15.54</td>\n",
       "    </tr>\n",
       "    <tr>\n",
       "      <td>2</td>\n",
       "      <td>Anthony Davis</td>\n",
       "      <td>9.5</td>\n",
       "      <td>1.3</td>\n",
       "      <td>2.2</td>\n",
       "      <td>12.81</td>\n",
       "    </tr>\n",
       "    <tr>\n",
       "      <td>3</td>\n",
       "      <td>DeMarcus Cousins</td>\n",
       "      <td>8.9</td>\n",
       "      <td>1.4</td>\n",
       "      <td>1.3</td>\n",
       "      <td>11.26</td>\n",
       "    </tr>\n",
       "    <tr>\n",
       "      <td>4</td>\n",
       "      <td>Damian Lillard</td>\n",
       "      <td>4.3</td>\n",
       "      <td>0.9</td>\n",
       "      <td>0.3</td>\n",
       "      <td>10.72</td>\n",
       "    </tr>\n",
       "    <tr>\n",
       "      <td>5</td>\n",
       "      <td>LeBron James</td>\n",
       "      <td>7.3</td>\n",
       "      <td>1.2</td>\n",
       "      <td>0.6</td>\n",
       "      <td>20.43</td>\n",
       "    </tr>\n",
       "    <tr>\n",
       "      <td>6</td>\n",
       "      <td>Kawhi Leonard</td>\n",
       "      <td>4.7</td>\n",
       "      <td>1.8</td>\n",
       "      <td>0.7</td>\n",
       "      <td>15.53</td>\n",
       "    </tr>\n",
       "    <tr>\n",
       "      <td>7</td>\n",
       "      <td>Stephen Curry</td>\n",
       "      <td>3.7</td>\n",
       "      <td>1.8</td>\n",
       "      <td>0.2</td>\n",
       "      <td>18.80</td>\n",
       "    </tr>\n",
       "    <tr>\n",
       "      <td>8</td>\n",
       "      <td>Kyrie Irving</td>\n",
       "      <td>2.5</td>\n",
       "      <td>1.2</td>\n",
       "      <td>0.3</td>\n",
       "      <td>8.28</td>\n",
       "    </tr>\n",
       "    <tr>\n",
       "      <td>9</td>\n",
       "      <td>Kevin Durant</td>\n",
       "      <td>7.6</td>\n",
       "      <td>1.1</td>\n",
       "      <td>1.6</td>\n",
       "      <td>12.24</td>\n",
       "    </tr>\n",
       "    <tr>\n",
       "      <td>10</td>\n",
       "      <td>Karl-Anthony Towns</td>\n",
       "      <td>8.7</td>\n",
       "      <td>0.7</td>\n",
       "      <td>1.3</td>\n",
       "      <td>10.00</td>\n",
       "    </tr>\n",
       "    <tr>\n",
       "      <td>11</td>\n",
       "      <td>Jimmy Butler</td>\n",
       "      <td>4.5</td>\n",
       "      <td>1.9</td>\n",
       "      <td>0.4</td>\n",
       "      <td>17.35</td>\n",
       "    </tr>\n",
       "    <tr>\n",
       "      <td>12</td>\n",
       "      <td>Paul George</td>\n",
       "      <td>5.8</td>\n",
       "      <td>1.6</td>\n",
       "      <td>0.4</td>\n",
       "      <td>9.72</td>\n",
       "    </tr>\n",
       "    <tr>\n",
       "      <td>13</td>\n",
       "      <td>Andrew Wiggins</td>\n",
       "      <td>2.8</td>\n",
       "      <td>1.0</td>\n",
       "      <td>0.4</td>\n",
       "      <td>2.94</td>\n",
       "    </tr>\n",
       "    <tr>\n",
       "      <td>14</td>\n",
       "      <td>Kemba Walker</td>\n",
       "      <td>3.3</td>\n",
       "      <td>1.1</td>\n",
       "      <td>0.3</td>\n",
       "      <td>9.95</td>\n",
       "    </tr>\n",
       "  </tbody>\n",
       "</table>\n",
       "</div>"
      ],
      "text/plain": [
       "                PLAYER  DRB  STL  BLK  WINS_RPM\n",
       "0    Russell Westbrook  9.0  1.6  0.4     17.34\n",
       "1         James Harden  7.0  1.5  0.5     15.54\n",
       "2        Anthony Davis  9.5  1.3  2.2     12.81\n",
       "3     DeMarcus Cousins  8.9  1.4  1.3     11.26\n",
       "4       Damian Lillard  4.3  0.9  0.3     10.72\n",
       "5         LeBron James  7.3  1.2  0.6     20.43\n",
       "6        Kawhi Leonard  4.7  1.8  0.7     15.53\n",
       "7        Stephen Curry  3.7  1.8  0.2     18.80\n",
       "8         Kyrie Irving  2.5  1.2  0.3      8.28\n",
       "9         Kevin Durant  7.6  1.1  1.6     12.24\n",
       "10  Karl-Anthony Towns  8.7  0.7  1.3     10.00\n",
       "11        Jimmy Butler  4.5  1.9  0.4     17.35\n",
       "12         Paul George  5.8  1.6  0.4      9.72\n",
       "13      Andrew Wiggins  2.8  1.0  0.4      2.94\n",
       "14        Kemba Walker  3.3  1.1  0.3      9.95"
      ]
     },
     "execution_count": 191,
     "metadata": {},
     "output_type": "execute_result"
    }
   ],
   "source": [
    "deffensive_atr_df = player_df[[\"PLAYER\",\"DRB\",\"STL\",\"BLK\",\"WINS_RPM\"]].copy()\n",
    "deffensive_atr_df.head(15)"
   ]
  },
  {
   "cell_type": "code",
   "execution_count": 192,
   "metadata": {
    "ExecuteTime": {
     "end_time": "2020-03-28T02:56:27.291452Z",
     "start_time": "2020-03-28T02:56:27.275588Z"
    }
   },
   "outputs": [
    {
     "data": {
      "text/html": [
       "<div>\n",
       "<style scoped>\n",
       "    .dataframe tbody tr th:only-of-type {\n",
       "        vertical-align: middle;\n",
       "    }\n",
       "\n",
       "    .dataframe tbody tr th {\n",
       "        vertical-align: top;\n",
       "    }\n",
       "\n",
       "    .dataframe thead th {\n",
       "        text-align: right;\n",
       "    }\n",
       "</style>\n",
       "<table border=\"1\" class=\"dataframe\">\n",
       "  <thead>\n",
       "    <tr style=\"text-align: right;\">\n",
       "      <th></th>\n",
       "      <th>DRB</th>\n",
       "      <th>STL</th>\n",
       "      <th>BLK</th>\n",
       "      <th>WINS_RPM</th>\n",
       "    </tr>\n",
       "  </thead>\n",
       "  <tbody>\n",
       "    <tr>\n",
       "      <td>DRB</td>\n",
       "      <td>1.000000</td>\n",
       "      <td>0.407956</td>\n",
       "      <td>0.660216</td>\n",
       "      <td>0.657377</td>\n",
       "    </tr>\n",
       "    <tr>\n",
       "      <td>STL</td>\n",
       "      <td>0.407956</td>\n",
       "      <td>1.000000</td>\n",
       "      <td>0.197189</td>\n",
       "      <td>0.659305</td>\n",
       "    </tr>\n",
       "    <tr>\n",
       "      <td>BLK</td>\n",
       "      <td>0.660216</td>\n",
       "      <td>0.197189</td>\n",
       "      <td>1.000000</td>\n",
       "      <td>0.419684</td>\n",
       "    </tr>\n",
       "    <tr>\n",
       "      <td>WINS_RPM</td>\n",
       "      <td>0.657377</td>\n",
       "      <td>0.659305</td>\n",
       "      <td>0.419684</td>\n",
       "      <td>1.000000</td>\n",
       "    </tr>\n",
       "  </tbody>\n",
       "</table>\n",
       "</div>"
      ],
      "text/plain": [
       "               DRB       STL       BLK  WINS_RPM\n",
       "DRB       1.000000  0.407956  0.660216  0.657377\n",
       "STL       0.407956  1.000000  0.197189  0.659305\n",
       "BLK       0.660216  0.197189  1.000000  0.419684\n",
       "WINS_RPM  0.657377  0.659305  0.419684  1.000000"
      ]
     },
     "execution_count": 192,
     "metadata": {},
     "output_type": "execute_result"
    }
   ],
   "source": [
    "deffensive_atr_df.corr()"
   ]
  },
  {
   "cell_type": "markdown",
   "metadata": {},
   "source": [
    "We have a stronger correlation between defensive rebounds and steals, and a player's RPM. Now let's visualize this relationship."
   ]
  },
  {
   "cell_type": "code",
   "execution_count": 193,
   "metadata": {
    "ExecuteTime": {
     "end_time": "2020-03-28T02:56:27.827227Z",
     "start_time": "2020-03-28T02:56:27.432061Z"
    }
   },
   "outputs": [
    {
     "data": {
      "text/plain": [
       "<matplotlib.axes._subplots.AxesSubplot at 0x1c2fd49110>"
      ]
     },
     "execution_count": 193,
     "metadata": {},
     "output_type": "execute_result"
    },
    {
     "data": {
      "image/png": "[encoded data removed]",
      "text/plain": [
       "<Figure size 720x720 with 2 Axes>"
      ]
     },
     "metadata": {
      "needs_background": "light"
     },
     "output_type": "display_data"
    }
   ],
   "source": [
    "plt.subplots(figsize=(10,10))\n",
    "sns.heatmap(deffensive_atr_df.corr(), \n",
    "            xticklabels=deffensive_atr_df.columns.values, \n",
    "            yticklabels=deffensive_atr_df.columns.values, cmap=\"bwr\",annot=True)"
   ]
  },
  {
   "cell_type": "markdown",
   "metadata": {},
   "source": [
    "Let's see the covariance too"
   ]
  },
  {
   "cell_type": "code",
   "execution_count": 194,
   "metadata": {
    "ExecuteTime": {
     "end_time": "2020-03-28T02:56:27.981278Z",
     "start_time": "2020-03-28T02:56:27.965457Z"
    }
   },
   "outputs": [
    {
     "data": {
      "text/html": [
       "<div>\n",
       "<style scoped>\n",
       "    .dataframe tbody tr th:only-of-type {\n",
       "        vertical-align: middle;\n",
       "    }\n",
       "\n",
       "    .dataframe tbody tr th {\n",
       "        vertical-align: top;\n",
       "    }\n",
       "\n",
       "    .dataframe thead th {\n",
       "        text-align: right;\n",
       "    }\n",
       "</style>\n",
       "<table border=\"1\" class=\"dataframe\">\n",
       "  <thead>\n",
       "    <tr style=\"text-align: right;\">\n",
       "      <th></th>\n",
       "      <th>DRB</th>\n",
       "      <th>STL</th>\n",
       "      <th>BLK</th>\n",
       "      <th>WINS_RPM</th>\n",
       "    </tr>\n",
       "  </thead>\n",
       "  <tbody>\n",
       "    <tr>\n",
       "      <td>DRB</td>\n",
       "      <td>3.533134</td>\n",
       "      <td>0.319000</td>\n",
       "      <td>0.517600</td>\n",
       "      <td>5.195204</td>\n",
       "    </tr>\n",
       "    <tr>\n",
       "      <td>STL</td>\n",
       "      <td>0.319000</td>\n",
       "      <td>0.173059</td>\n",
       "      <td>0.034214</td>\n",
       "      <td>1.153166</td>\n",
       "    </tr>\n",
       "    <tr>\n",
       "      <td>BLK</td>\n",
       "      <td>0.517600</td>\n",
       "      <td>0.034214</td>\n",
       "      <td>0.173963</td>\n",
       "      <td>0.735968</td>\n",
       "    </tr>\n",
       "    <tr>\n",
       "      <td>WINS_RPM</td>\n",
       "      <td>5.195204</td>\n",
       "      <td>1.153166</td>\n",
       "      <td>0.735968</td>\n",
       "      <td>17.677302</td>\n",
       "    </tr>\n",
       "  </tbody>\n",
       "</table>\n",
       "</div>"
      ],
      "text/plain": [
       "               DRB       STL       BLK   WINS_RPM\n",
       "DRB       3.533134  0.319000  0.517600   5.195204\n",
       "STL       0.319000  0.173059  0.034214   1.153166\n",
       "BLK       0.517600  0.034214  0.173963   0.735968\n",
       "WINS_RPM  5.195204  1.153166  0.735968  17.677302"
      ]
     },
     "execution_count": 194,
     "metadata": {},
     "output_type": "execute_result"
    }
   ],
   "source": [
    "deffensive_atr_df.cov()"
   ]
  },
  {
   "cell_type": "markdown",
   "metadata": {},
   "source": [
    "Ok, let's do a regression model to see the strength of deffensive parameters related with RPM"
   ]
  },
  {
   "cell_type": "code",
   "execution_count": 195,
   "metadata": {
    "ExecuteTime": {
     "end_time": "2020-03-28T02:56:28.145304Z",
     "start_time": "2020-03-28T02:56:28.105035Z"
    }
   },
   "outputs": [
    {
     "name": "stdout",
     "output_type": "stream",
     "text": [
      "                            OLS Regression Results                            \n",
      "==============================================================================\n",
      "Dep. Variable:               WINS_RPM   R-squared:                       0.616\n",
      "Model:                            OLS   Adj. R-squared:                  0.611\n",
      "Method:                 Least Squares   F-statistic:                     125.8\n",
      "Date:                Sat, 28 Mar 2020   Prob (F-statistic):           1.25e-48\n",
      "Time:                        03:56:28   Log-Likelihood:                -567.38\n",
      "No. Observations:                 239   AIC:                             1143.\n",
      "Df Residuals:                     235   BIC:                             1157.\n",
      "Df Model:                           3                                         \n",
      "Covariance Type:            nonrobust                                         \n",
      "==============================================================================\n",
      "                 coef    std err          t      P>|t|      [0.025      0.975]\n",
      "------------------------------------------------------------------------------\n",
      "Intercept     -3.5604      0.399     -8.924      0.000      -4.346      -2.774\n",
      "DRB            0.9878      0.130      7.603      0.000       0.732       1.244\n",
      "STL            4.7728      0.450     10.612      0.000       3.887       5.659\n",
      "BLK            0.3529      0.545      0.647      0.518      -0.721       1.427\n",
      "==============================================================================\n",
      "Omnibus:                       24.821   Durbin-Watson:                   1.487\n",
      "Prob(Omnibus):                  0.000   Jarque-Bera (JB):               43.891\n",
      "Skew:                           0.575   Prob(JB):                     2.95e-10\n",
      "Kurtosis:                       4.756   Cond. No.                         13.2\n",
      "==============================================================================\n",
      "\n",
      "Warnings:\n",
      "[1] Standard Errors assume that the covariance matrix of the errors is correctly specified.\n"
     ]
    }
   ],
   "source": [
    "defense = smf.ols('WINS_RPM ~ DRB + STL + BLK', data=deffensive_atr_df).fit()\n",
    "print(defense.summary())"
   ]
  },
  {
   "cell_type": "markdown",
   "metadata": {},
   "source": [
    "We are showing a Adjusted R-Squared value of 0.61  \n",
    "This would generally be considered a moderate positive correlation. Our correlation is better than the previous question. We are improving the correlation."
   ]
  },
  {
   "cell_type": "code",
   "execution_count": 196,
   "metadata": {
    "ExecuteTime": {
     "end_time": "2020-03-28T02:56:29.322093Z",
     "start_time": "2020-03-28T02:56:28.282373Z"
    }
   },
   "outputs": [
    {
     "data": {
      "image/png": "[encoded data removed]",
      "text/plain": [
       "<Figure size 936x576 with 4 Axes>"
      ]
     },
     "metadata": {
      "needs_background": "light"
     },
     "output_type": "display_data"
    }
   ],
   "source": [
    "fig = plt.figure(figsize=(13,8))\n",
    "fig = sm.graphics.plot_partregress_grid(defense, fig=fig)"
   ]
  },
  {
   "cell_type": "markdown",
   "metadata": {},
   "source": [
    "In the graphs above, we can see that our correlation depends basically of STL and DRB, because BLK doesn't mean an important parameter to our correlation."
   ]
  },
  {
   "cell_type": "markdown",
   "metadata": {},
   "source": [
    "Ok, we saw the correlation between RPM and defensive parameters. \n",
    "\n",
    "Let's talk about offensive parameters. \n",
    "We are going to create a DataFrame with the most important offensive data:\n",
    "\n",
    "- eFG: effective Field Goal\n",
    "\n",
    "- FT: Free Throw per Game\n",
    "\n",
    "- FT: Free Throw Percentage\n",
    "\n",
    "- ORB: Offensive Rebounds\n",
    "\n",
    "- AST: Assists\n",
    "\n",
    "- POINTS: Points\n",
    "\n",
    "- RPM"
   ]
  },
  {
   "cell_type": "code",
   "execution_count": 197,
   "metadata": {
    "ExecuteTime": {
     "end_time": "2020-03-28T02:56:29.471940Z",
     "start_time": "2020-03-28T02:56:29.448627Z"
    }
   },
   "outputs": [
    {
     "data": {
      "text/html": [
       "<div>\n",
       "<style scoped>\n",
       "    .dataframe tbody tr th:only-of-type {\n",
       "        vertical-align: middle;\n",
       "    }\n",
       "\n",
       "    .dataframe tbody tr th {\n",
       "        vertical-align: top;\n",
       "    }\n",
       "\n",
       "    .dataframe thead th {\n",
       "        text-align: right;\n",
       "    }\n",
       "</style>\n",
       "<table border=\"1\" class=\"dataframe\">\n",
       "  <thead>\n",
       "    <tr style=\"text-align: right;\">\n",
       "      <th></th>\n",
       "      <th>PLAYER</th>\n",
       "      <th>eFG</th>\n",
       "      <th>FT</th>\n",
       "      <th>FT</th>\n",
       "      <th>ORB</th>\n",
       "      <th>AST</th>\n",
       "      <th>POINTS</th>\n",
       "      <th>WINS_RPM</th>\n",
       "    </tr>\n",
       "  </thead>\n",
       "  <tbody>\n",
       "    <tr>\n",
       "      <td>0</td>\n",
       "      <td>Russell Westbrook</td>\n",
       "      <td>0.476</td>\n",
       "      <td>8.8</td>\n",
       "      <td>0.845</td>\n",
       "      <td>1.7</td>\n",
       "      <td>10.4</td>\n",
       "      <td>31.6</td>\n",
       "      <td>17.34</td>\n",
       "    </tr>\n",
       "    <tr>\n",
       "      <td>1</td>\n",
       "      <td>James Harden</td>\n",
       "      <td>0.525</td>\n",
       "      <td>9.2</td>\n",
       "      <td>0.847</td>\n",
       "      <td>1.2</td>\n",
       "      <td>11.2</td>\n",
       "      <td>29.1</td>\n",
       "      <td>15.54</td>\n",
       "    </tr>\n",
       "    <tr>\n",
       "      <td>2</td>\n",
       "      <td>Anthony Davis</td>\n",
       "      <td>0.518</td>\n",
       "      <td>6.9</td>\n",
       "      <td>0.802</td>\n",
       "      <td>2.3</td>\n",
       "      <td>2.1</td>\n",
       "      <td>28.0</td>\n",
       "      <td>12.81</td>\n",
       "    </tr>\n",
       "    <tr>\n",
       "      <td>3</td>\n",
       "      <td>DeMarcus Cousins</td>\n",
       "      <td>0.498</td>\n",
       "      <td>7.2</td>\n",
       "      <td>0.772</td>\n",
       "      <td>2.1</td>\n",
       "      <td>4.6</td>\n",
       "      <td>27.0</td>\n",
       "      <td>11.26</td>\n",
       "    </tr>\n",
       "    <tr>\n",
       "      <td>4</td>\n",
       "      <td>Damian Lillard</td>\n",
       "      <td>0.516</td>\n",
       "      <td>6.5</td>\n",
       "      <td>0.895</td>\n",
       "      <td>0.6</td>\n",
       "      <td>5.9</td>\n",
       "      <td>27.0</td>\n",
       "      <td>10.72</td>\n",
       "    </tr>\n",
       "  </tbody>\n",
       "</table>\n",
       "</div>"
      ],
      "text/plain": [
       "              PLAYER    eFG   FT     FT  ORB   AST  POINTS  WINS_RPM\n",
       "0  Russell Westbrook  0.476  8.8  0.845  1.7  10.4    31.6     17.34\n",
       "1       James Harden  0.525  9.2  0.847  1.2  11.2    29.1     15.54\n",
       "2      Anthony Davis  0.518  6.9  0.802  2.3   2.1    28.0     12.81\n",
       "3   DeMarcus Cousins  0.498  7.2  0.772  2.1   4.6    27.0     11.26\n",
       "4     Damian Lillard  0.516  6.5  0.895  0.6   5.9    27.0     10.72"
      ]
     },
     "execution_count": 197,
     "metadata": {},
     "output_type": "execute_result"
    }
   ],
   "source": [
    "offensive_atr_df = player_df[[\"PLAYER\",\"eFG\",\"FT\",\"ORB\",\"AST\",\"POINTS\",\"WINS_RPM\"]].copy()\n",
    "offensive_atr_df.head()"
   ]
  },
  {
   "cell_type": "markdown",
   "metadata": {},
   "source": [
    "Let's see the correlation and covariance of offensive parameters."
   ]
  },
  {
   "cell_type": "code",
   "execution_count": 198,
   "metadata": {
    "ExecuteTime": {
     "end_time": "2020-03-28T02:56:29.621758Z",
     "start_time": "2020-03-28T02:56:29.601774Z"
    }
   },
   "outputs": [
    {
     "data": {
      "text/html": [
       "<div>\n",
       "<style scoped>\n",
       "    .dataframe tbody tr th:only-of-type {\n",
       "        vertical-align: middle;\n",
       "    }\n",
       "\n",
       "    .dataframe tbody tr th {\n",
       "        vertical-align: top;\n",
       "    }\n",
       "\n",
       "    .dataframe thead th {\n",
       "        text-align: right;\n",
       "    }\n",
       "</style>\n",
       "<table border=\"1\" class=\"dataframe\">\n",
       "  <thead>\n",
       "    <tr style=\"text-align: right;\">\n",
       "      <th></th>\n",
       "      <th>eFG</th>\n",
       "      <th>FT</th>\n",
       "      <th>FT</th>\n",
       "      <th>ORB</th>\n",
       "      <th>AST</th>\n",
       "      <th>POINTS</th>\n",
       "      <th>WINS_RPM</th>\n",
       "    </tr>\n",
       "  </thead>\n",
       "  <tbody>\n",
       "    <tr>\n",
       "      <td>eFG</td>\n",
       "      <td>1.000000</td>\n",
       "      <td>0.172034</td>\n",
       "      <td>0.066847</td>\n",
       "      <td>0.354743</td>\n",
       "      <td>0.047433</td>\n",
       "      <td>0.303443</td>\n",
       "      <td>0.377955</td>\n",
       "    </tr>\n",
       "    <tr>\n",
       "      <td>FT</td>\n",
       "      <td>0.172034</td>\n",
       "      <td>1.000000</td>\n",
       "      <td>0.402037</td>\n",
       "      <td>0.273392</td>\n",
       "      <td>0.666784</td>\n",
       "      <td>0.904478</td>\n",
       "      <td>0.723831</td>\n",
       "    </tr>\n",
       "    <tr>\n",
       "      <td>FT</td>\n",
       "      <td>0.066847</td>\n",
       "      <td>0.402037</td>\n",
       "      <td>1.000000</td>\n",
       "      <td>-0.309833</td>\n",
       "      <td>0.336495</td>\n",
       "      <td>0.416542</td>\n",
       "      <td>0.229464</td>\n",
       "    </tr>\n",
       "    <tr>\n",
       "      <td>ORB</td>\n",
       "      <td>0.354743</td>\n",
       "      <td>0.273392</td>\n",
       "      <td>-0.309833</td>\n",
       "      <td>1.000000</td>\n",
       "      <td>-0.029561</td>\n",
       "      <td>0.255789</td>\n",
       "      <td>0.346462</td>\n",
       "    </tr>\n",
       "    <tr>\n",
       "      <td>AST</td>\n",
       "      <td>0.047433</td>\n",
       "      <td>0.666784</td>\n",
       "      <td>0.336495</td>\n",
       "      <td>-0.029561</td>\n",
       "      <td>1.000000</td>\n",
       "      <td>0.672545</td>\n",
       "      <td>0.617456</td>\n",
       "    </tr>\n",
       "    <tr>\n",
       "      <td>POINTS</td>\n",
       "      <td>0.303443</td>\n",
       "      <td>0.904478</td>\n",
       "      <td>0.416542</td>\n",
       "      <td>0.255789</td>\n",
       "      <td>0.672545</td>\n",
       "      <td>1.000000</td>\n",
       "      <td>0.748621</td>\n",
       "    </tr>\n",
       "    <tr>\n",
       "      <td>WINS_RPM</td>\n",
       "      <td>0.377955</td>\n",
       "      <td>0.723831</td>\n",
       "      <td>0.229464</td>\n",
       "      <td>0.346462</td>\n",
       "      <td>0.617456</td>\n",
       "      <td>0.748621</td>\n",
       "      <td>1.000000</td>\n",
       "    </tr>\n",
       "  </tbody>\n",
       "</table>\n",
       "</div>"
      ],
      "text/plain": [
       "               eFG        FT        FT       ORB       AST    POINTS  WINS_RPM\n",
       "eFG       1.000000  0.172034  0.066847  0.354743  0.047433  0.303443  0.377955\n",
       "FT        0.172034  1.000000  0.402037  0.273392  0.666784  0.904478  0.723831\n",
       "FT        0.066847  0.402037  1.000000 -0.309833  0.336495  0.416542  0.229464\n",
       "ORB       0.354743  0.273392 -0.309833  1.000000 -0.029561  0.255789  0.346462\n",
       "AST       0.047433  0.666784  0.336495 -0.029561  1.000000  0.672545  0.617456\n",
       "POINTS    0.303443  0.904478  0.416542  0.255789  0.672545  1.000000  0.748621\n",
       "WINS_RPM  0.377955  0.723831  0.229464  0.346462  0.617456  0.748621  1.000000"
      ]
     },
     "execution_count": 198,
     "metadata": {},
     "output_type": "execute_result"
    }
   ],
   "source": [
    "offensive_atr_df.corr()"
   ]
  },
  {
   "cell_type": "code",
   "execution_count": 199,
   "metadata": {
    "ExecuteTime": {
     "end_time": "2020-03-28T02:56:30.500556Z",
     "start_time": "2020-03-28T02:56:29.764189Z"
    }
   },
   "outputs": [
    {
     "data": {
      "text/plain": [
       "<matplotlib.axes._subplots.AxesSubplot at 0x1c301c8790>"
      ]
     },
     "execution_count": 199,
     "metadata": {},
     "output_type": "execute_result"
    },
    {
     "data": {
      "image/png": "[encoded data removed]",
      "text/plain": [
       "<Figure size 1008x720 with 2 Axes>"
      ]
     },
     "metadata": {
      "needs_background": "light"
     },
     "output_type": "display_data"
    }
   ],
   "source": [
    "plt.subplots(figsize=(14,10))\n",
    "sns.heatmap(offensive_atr_df.corr(), \n",
    "            xticklabels=offensive_atr_df.columns.values, \n",
    "            yticklabels=offensive_atr_df.columns.values, cmap=\"bwr\",annot=True)"
   ]
  },
  {
   "cell_type": "code",
   "execution_count": 200,
   "metadata": {
    "ExecuteTime": {
     "end_time": "2020-03-28T02:56:30.677773Z",
     "start_time": "2020-03-28T02:56:30.652800Z"
    }
   },
   "outputs": [
    {
     "data": {
      "text/html": [
       "<div>\n",
       "<style scoped>\n",
       "    .dataframe tbody tr th:only-of-type {\n",
       "        vertical-align: middle;\n",
       "    }\n",
       "\n",
       "    .dataframe tbody tr th {\n",
       "        vertical-align: top;\n",
       "    }\n",
       "\n",
       "    .dataframe thead th {\n",
       "        text-align: right;\n",
       "    }\n",
       "</style>\n",
       "<table border=\"1\" class=\"dataframe\">\n",
       "  <thead>\n",
       "    <tr style=\"text-align: right;\">\n",
       "      <th></th>\n",
       "      <th>eFG</th>\n",
       "      <th>FT</th>\n",
       "      <th>FT</th>\n",
       "      <th>ORB</th>\n",
       "      <th>AST</th>\n",
       "      <th>POINTS</th>\n",
       "      <th>WINS_RPM</th>\n",
       "    </tr>\n",
       "  </thead>\n",
       "  <tbody>\n",
       "    <tr>\n",
       "      <td>eFG</td>\n",
       "      <td>0.003959</td>\n",
       "      <td>0.017873</td>\n",
       "      <td>0.000466</td>\n",
       "      <td>0.017873</td>\n",
       "      <td>0.006065</td>\n",
       "      <td>0.124676</td>\n",
       "      <td>0.099983</td>\n",
       "    </tr>\n",
       "    <tr>\n",
       "      <td>FT</td>\n",
       "      <td>0.017873</td>\n",
       "      <td>2.726464</td>\n",
       "      <td>0.073486</td>\n",
       "      <td>0.361487</td>\n",
       "      <td>2.237439</td>\n",
       "      <td>9.752735</td>\n",
       "      <td>5.025101</td>\n",
       "    </tr>\n",
       "    <tr>\n",
       "      <td>FT</td>\n",
       "      <td>0.000466</td>\n",
       "      <td>0.073486</td>\n",
       "      <td>0.012275</td>\n",
       "      <td>-0.027586</td>\n",
       "      <td>0.075837</td>\n",
       "      <td>0.300822</td>\n",
       "      <td>0.107044</td>\n",
       "    </tr>\n",
       "    <tr>\n",
       "      <td>ORB</td>\n",
       "      <td>0.017873</td>\n",
       "      <td>0.361487</td>\n",
       "      <td>-0.027586</td>\n",
       "      <td>0.641229</td>\n",
       "      <td>-0.048105</td>\n",
       "      <td>1.337572</td>\n",
       "      <td>1.166461</td>\n",
       "    </tr>\n",
       "    <tr>\n",
       "      <td>AST</td>\n",
       "      <td>0.006065</td>\n",
       "      <td>2.237439</td>\n",
       "      <td>0.075837</td>\n",
       "      <td>-0.048105</td>\n",
       "      <td>4.129830</td>\n",
       "      <td>8.925165</td>\n",
       "      <td>5.275698</td>\n",
       "    </tr>\n",
       "    <tr>\n",
       "      <td>POINTS</td>\n",
       "      <td>0.124676</td>\n",
       "      <td>9.752735</td>\n",
       "      <td>0.300822</td>\n",
       "      <td>1.337572</td>\n",
       "      <td>8.925165</td>\n",
       "      <td>42.643943</td>\n",
       "      <td>20.554119</td>\n",
       "    </tr>\n",
       "    <tr>\n",
       "      <td>WINS_RPM</td>\n",
       "      <td>0.099983</td>\n",
       "      <td>5.025101</td>\n",
       "      <td>0.107044</td>\n",
       "      <td>1.166461</td>\n",
       "      <td>5.275698</td>\n",
       "      <td>20.554119</td>\n",
       "      <td>17.677302</td>\n",
       "    </tr>\n",
       "  </tbody>\n",
       "</table>\n",
       "</div>"
      ],
      "text/plain": [
       "               eFG        FT        FT       ORB       AST     POINTS  \\\n",
       "eFG       0.003959  0.017873  0.000466  0.017873  0.006065   0.124676   \n",
       "FT        0.017873  2.726464  0.073486  0.361487  2.237439   9.752735   \n",
       "FT        0.000466  0.073486  0.012275 -0.027586  0.075837   0.300822   \n",
       "ORB       0.017873  0.361487 -0.027586  0.641229 -0.048105   1.337572   \n",
       "AST       0.006065  2.237439  0.075837 -0.048105  4.129830   8.925165   \n",
       "POINTS    0.124676  9.752735  0.300822  1.337572  8.925165  42.643943   \n",
       "WINS_RPM  0.099983  5.025101  0.107044  1.166461  5.275698  20.554119   \n",
       "\n",
       "           WINS_RPM  \n",
       "eFG        0.099983  \n",
       "FT         5.025101  \n",
       "FT         0.107044  \n",
       "ORB        1.166461  \n",
       "AST        5.275698  \n",
       "POINTS    20.554119  \n",
       "WINS_RPM  17.677302  "
      ]
     },
     "execution_count": 200,
     "metadata": {},
     "output_type": "execute_result"
    }
   ],
   "source": [
    "offensive_atr_df.cov()"
   ]
  },
  {
   "cell_type": "code",
   "execution_count": 201,
   "metadata": {
    "ExecuteTime": {
     "end_time": "2020-03-28T02:56:30.909812Z",
     "start_time": "2020-03-28T02:56:30.834137Z"
    }
   },
   "outputs": [
    {
     "name": "stdout",
     "output_type": "stream",
     "text": [
      "                            OLS Regression Results                            \n",
      "==============================================================================\n",
      "Dep. Variable:               WINS_RPM   R-squared:                       0.660\n",
      "Model:                            OLS   Adj. R-squared:                  0.651\n",
      "Method:                 Least Squares   F-statistic:                     74.29\n",
      "Date:                Sat, 28 Mar 2020   Prob (F-statistic):           4.46e-51\n",
      "Time:                        03:56:30   Log-Likelihood:                -548.79\n",
      "No. Observations:                 237   AIC:                             1112.\n",
      "Df Residuals:                     230   BIC:                             1136.\n",
      "Df Model:                           6                                         \n",
      "Covariance Type:            nonrobust                                         \n",
      "==============================================================================\n",
      "                 coef    std err          t      P>|t|      [0.025      0.975]\n",
      "------------------------------------------------------------------------------\n",
      "Intercept     -7.0254      1.815     -3.871      0.000     -10.601      -3.450\n",
      "eFG           13.4684      3.003      4.485      0.000       7.552      19.385\n",
      "ORB            0.7336      0.266      2.757      0.006       0.209       1.258\n",
      "FT[0]          0.6341      0.250      2.537      0.012       0.142       1.126\n",
      "FT[1]         -1.6345      1.864     -0.877      0.381      -5.307       2.038\n",
      "AST            0.6111      0.116      5.289      0.000       0.383       0.839\n",
      "POINTS         0.1600      0.065      2.469      0.014       0.032       0.288\n",
      "==============================================================================\n",
      "Omnibus:                       21.622   Durbin-Watson:                   1.600\n",
      "Prob(Omnibus):                  0.000   Jarque-Bera (JB):               34.814\n",
      "Skew:                           0.542   Prob(JB):                     2.76e-08\n",
      "Kurtosis:                       4.533   Cond. No.                         262.\n",
      "==============================================================================\n",
      "\n",
      "Warnings:\n",
      "[1] Standard Errors assume that the covariance matrix of the errors is correctly specified.\n"
     ]
    }
   ],
   "source": [
    "offense = smf.ols('WINS_RPM ~ eFG + ORB + FT + AST + POINTS', data=offensive_atr_df).fit()\n",
    "print(offense.summary())"
   ]
  },
  {
   "cell_type": "markdown",
   "metadata": {},
   "source": [
    "We have a moderate positive correlation showing a R-squared value of 0.65. I think that if we delete all independent variables with a pvalue > 0, we have a better correlation. But this indicator is much better than the first that we predicted before. And is a little bit stronger than our deffensive model."
   ]
  },
  {
   "cell_type": "markdown",
   "metadata": {},
   "source": [
    "Let's see some additional graphs to see the importance of our parameters"
   ]
  },
  {
   "cell_type": "code",
   "execution_count": 202,
   "metadata": {
    "ExecuteTime": {
     "end_time": "2020-03-28T02:56:33.183763Z",
     "start_time": "2020-03-28T02:56:31.071160Z"
    }
   },
   "outputs": [
    {
     "data": {
      "image/png": "[encoded data removed]",
      "text/plain": [
       "<Figure size 936x792 with 7 Axes>"
      ]
     },
     "metadata": {
      "needs_background": "light"
     },
     "output_type": "display_data"
    }
   ],
   "source": [
    "fig = plt.figure(figsize=(13,11))\n",
    "fig = sm.graphics.plot_partregress_grid(offense, fig=fig)"
   ]
  },
  {
   "cell_type": "markdown",
   "metadata": {},
   "source": [
    "We can't see clearly which variable is more valuable than the others. Let's see it:"
   ]
  },
  {
   "cell_type": "code",
   "execution_count": 203,
   "metadata": {
    "ExecuteTime": {
     "end_time": "2020-03-28T02:56:35.202199Z",
     "start_time": "2020-03-28T02:56:33.336202Z"
    }
   },
   "outputs": [
    {
     "data": {
      "image/png": "[encoded data removed]",
      "text/plain": [
       "<Figure size 936x792 with 6 Axes>"
      ]
     },
     "metadata": {
      "needs_background": "light"
     },
     "output_type": "display_data"
    }
   ],
   "source": [
    "fig = plt.figure(figsize=(13, 11))\n",
    "fig = sm.graphics.plot_ccpr_grid(offense, fig=fig)"
   ]
  },
  {
   "cell_type": "markdown",
   "metadata": {},
   "source": [
    "### To complete the answer of the question, we can conclude that the offensive parameters has a little bit more importance than the defensive parameters. "
   ]
  },
  {
   "cell_type": "markdown",
   "metadata": {},
   "source": [
    "DEFFENSIVE R-SQUARED COEFFICIENT : 0.611\n",
    "\n",
    "OFFENSIVE R-SQUARED COEFFICIENT : 0.651"
   ]
  },
  {
   "cell_type": "markdown",
   "metadata": {},
   "source": [
    "Finally, we can do a complete predictive model with most valuables parameters of both models. \n",
    "\n",
    "Taking the parameters with pvalue = 0"
   ]
  },
  {
   "cell_type": "code",
   "execution_count": 204,
   "metadata": {
    "ExecuteTime": {
     "end_time": "2020-03-28T02:56:35.377962Z",
     "start_time": "2020-03-28T02:56:35.351319Z"
    }
   },
   "outputs": [
    {
     "data": {
      "text/html": [
       "<div>\n",
       "<style scoped>\n",
       "    .dataframe tbody tr th:only-of-type {\n",
       "        vertical-align: middle;\n",
       "    }\n",
       "\n",
       "    .dataframe tbody tr th {\n",
       "        vertical-align: top;\n",
       "    }\n",
       "\n",
       "    .dataframe thead th {\n",
       "        text-align: right;\n",
       "    }\n",
       "</style>\n",
       "<table border=\"1\" class=\"dataframe\">\n",
       "  <thead>\n",
       "    <tr style=\"text-align: right;\">\n",
       "      <th></th>\n",
       "      <th>PLAYER</th>\n",
       "      <th>POINTS</th>\n",
       "      <th>AST</th>\n",
       "      <th>STL</th>\n",
       "      <th>DRB</th>\n",
       "      <th>ORB</th>\n",
       "      <th>eFG</th>\n",
       "      <th>WINS_RPM</th>\n",
       "    </tr>\n",
       "  </thead>\n",
       "  <tbody>\n",
       "    <tr>\n",
       "      <td>0</td>\n",
       "      <td>Russell Westbrook</td>\n",
       "      <td>31.6</td>\n",
       "      <td>10.4</td>\n",
       "      <td>1.6</td>\n",
       "      <td>9.0</td>\n",
       "      <td>1.7</td>\n",
       "      <td>0.476</td>\n",
       "      <td>17.34</td>\n",
       "    </tr>\n",
       "    <tr>\n",
       "      <td>1</td>\n",
       "      <td>James Harden</td>\n",
       "      <td>29.1</td>\n",
       "      <td>11.2</td>\n",
       "      <td>1.5</td>\n",
       "      <td>7.0</td>\n",
       "      <td>1.2</td>\n",
       "      <td>0.525</td>\n",
       "      <td>15.54</td>\n",
       "    </tr>\n",
       "    <tr>\n",
       "      <td>2</td>\n",
       "      <td>Anthony Davis</td>\n",
       "      <td>28.0</td>\n",
       "      <td>2.1</td>\n",
       "      <td>1.3</td>\n",
       "      <td>9.5</td>\n",
       "      <td>2.3</td>\n",
       "      <td>0.518</td>\n",
       "      <td>12.81</td>\n",
       "    </tr>\n",
       "    <tr>\n",
       "      <td>3</td>\n",
       "      <td>DeMarcus Cousins</td>\n",
       "      <td>27.0</td>\n",
       "      <td>4.6</td>\n",
       "      <td>1.4</td>\n",
       "      <td>8.9</td>\n",
       "      <td>2.1</td>\n",
       "      <td>0.498</td>\n",
       "      <td>11.26</td>\n",
       "    </tr>\n",
       "    <tr>\n",
       "      <td>4</td>\n",
       "      <td>Damian Lillard</td>\n",
       "      <td>27.0</td>\n",
       "      <td>5.9</td>\n",
       "      <td>0.9</td>\n",
       "      <td>4.3</td>\n",
       "      <td>0.6</td>\n",
       "      <td>0.516</td>\n",
       "      <td>10.72</td>\n",
       "    </tr>\n",
       "  </tbody>\n",
       "</table>\n",
       "</div>"
      ],
      "text/plain": [
       "              PLAYER  POINTS   AST  STL  DRB  ORB    eFG  WINS_RPM\n",
       "0  Russell Westbrook    31.6  10.4  1.6  9.0  1.7  0.476     17.34\n",
       "1       James Harden    29.1  11.2  1.5  7.0  1.2  0.525     15.54\n",
       "2      Anthony Davis    28.0   2.1  1.3  9.5  2.3  0.518     12.81\n",
       "3   DeMarcus Cousins    27.0   4.6  1.4  8.9  2.1  0.498     11.26\n",
       "4     Damian Lillard    27.0   5.9  0.9  4.3  0.6  0.516     10.72"
      ]
     },
     "execution_count": 204,
     "metadata": {},
     "output_type": "execute_result"
    }
   ],
   "source": [
    "mvp_atr = player_df[[\"PLAYER\",\"POINTS\",\"AST\",\"STL\",\"DRB\",\"ORB\",\"eFG\",\"WINS_RPM\"]].copy()\n",
    "mvp_atr.head()"
   ]
  },
  {
   "cell_type": "code",
   "execution_count": 205,
   "metadata": {
    "ExecuteTime": {
     "end_time": "2020-03-28T02:56:35.610268Z",
     "start_time": "2020-03-28T02:56:35.541660Z"
    }
   },
   "outputs": [
    {
     "name": "stdout",
     "output_type": "stream",
     "text": [
      "                            OLS Regression Results                            \n",
      "==============================================================================\n",
      "Dep. Variable:               WINS_RPM   R-squared:                       0.707\n",
      "Model:                            OLS   Adj. R-squared:                  0.700\n",
      "Method:                 Least Squares   F-statistic:                     112.2\n",
      "Date:                Sat, 28 Mar 2020   Prob (F-statistic):           5.40e-60\n",
      "Time:                        03:56:35   Log-Likelihood:                -535.36\n",
      "No. Observations:                 239   AIC:                             1083.\n",
      "Df Residuals:                     233   BIC:                             1104.\n",
      "Df Model:                           5                                         \n",
      "Covariance Type:            nonrobust                                         \n",
      "==============================================================================\n",
      "                 coef    std err          t      P>|t|      [0.025      0.975]\n",
      "------------------------------------------------------------------------------\n",
      "Intercept     -8.1410      1.244     -6.545      0.000     -10.592      -5.690\n",
      "STL            2.2913      0.517      4.434      0.000       1.273       3.309\n",
      "DRB            0.6629      0.105      6.317      0.000       0.456       0.870\n",
      "eFG           10.1598      2.604      3.902      0.000       5.029      15.290\n",
      "AST            0.4070      0.115      3.536      0.000       0.180       0.634\n",
      "POINTS         0.1576      0.039      4.014      0.000       0.080       0.235\n",
      "==============================================================================\n",
      "Omnibus:                       10.923   Durbin-Watson:                   1.408\n",
      "Prob(Omnibus):                  0.004   Jarque-Bera (JB):               15.513\n",
      "Skew:                           0.312   Prob(JB):                     0.000428\n",
      "Kurtosis:                       4.081   Cond. No.                         252.\n",
      "==============================================================================\n",
      "\n",
      "Warnings:\n",
      "[1] Standard Errors assume that the covariance matrix of the errors is correctly specified.\n"
     ]
    }
   ],
   "source": [
    "best_attributes = smf.ols('WINS_RPM ~ STL + DRB + eFG + AST + POINTS', data=mvp_atr).fit()\n",
    "print(best_attributes.summary())"
   ]
  },
  {
   "cell_type": "markdown",
   "metadata": {},
   "source": [
    "We are showing the most strong positive correlation since the first model. 0.7. \n",
    "\n",
    "It's logic picking out the best parameters, that we obtain the best correlation in fact."
   ]
  },
  {
   "cell_type": "markdown",
   "metadata": {},
   "source": [
    "### Can we predict the ELO of each team?"
   ]
  },
  {
   "cell_type": "markdown",
   "metadata": {},
   "source": [
    "To analyze this point, we are going to read three different datasets that talks about: \n",
    "\n",
    "- Stadium attendance teams \n",
    "\n",
    "- Valuations in millions\n",
    "\n",
    "- ELO of the teams (we talked about this concept in the intro)"
   ]
  },
  {
   "cell_type": "code",
   "execution_count": 206,
   "metadata": {
    "ExecuteTime": {
     "end_time": "2020-03-28T02:56:35.819478Z",
     "start_time": "2020-03-28T02:56:35.773735Z"
    }
   },
   "outputs": [
    {
     "data": {
      "text/html": [
       "<div>\n",
       "<style scoped>\n",
       "    .dataframe tbody tr th:only-of-type {\n",
       "        vertical-align: middle;\n",
       "    }\n",
       "\n",
       "    .dataframe tbody tr th {\n",
       "        vertical-align: top;\n",
       "    }\n",
       "\n",
       "    .dataframe thead th {\n",
       "        text-align: right;\n",
       "    }\n",
       "</style>\n",
       "<table border=\"1\" class=\"dataframe\">\n",
       "  <thead>\n",
       "    <tr style=\"text-align: right;\">\n",
       "      <th></th>\n",
       "      <th>TEAM</th>\n",
       "      <th>GMS</th>\n",
       "      <th>TOTAL</th>\n",
       "      <th>AVG</th>\n",
       "      <th>PCT</th>\n",
       "    </tr>\n",
       "  </thead>\n",
       "  <tbody>\n",
       "    <tr>\n",
       "      <td>0</td>\n",
       "      <td>Chicago Bulls</td>\n",
       "      <td>41</td>\n",
       "      <td>888882</td>\n",
       "      <td>21680</td>\n",
       "      <td>103.6</td>\n",
       "    </tr>\n",
       "    <tr>\n",
       "      <td>1</td>\n",
       "      <td>Dallas Mavericks</td>\n",
       "      <td>41</td>\n",
       "      <td>811366</td>\n",
       "      <td>19789</td>\n",
       "      <td>103.1</td>\n",
       "    </tr>\n",
       "    <tr>\n",
       "      <td>2</td>\n",
       "      <td>Sacramento Kings</td>\n",
       "      <td>41</td>\n",
       "      <td>721928</td>\n",
       "      <td>17608</td>\n",
       "      <td>100.6</td>\n",
       "    </tr>\n",
       "    <tr>\n",
       "      <td>3</td>\n",
       "      <td>Miami Heat</td>\n",
       "      <td>41</td>\n",
       "      <td>805400</td>\n",
       "      <td>19643</td>\n",
       "      <td>100.2</td>\n",
       "    </tr>\n",
       "    <tr>\n",
       "      <td>4</td>\n",
       "      <td>Toronto Raptors</td>\n",
       "      <td>41</td>\n",
       "      <td>813050</td>\n",
       "      <td>19830</td>\n",
       "      <td>100.2</td>\n",
       "    </tr>\n",
       "  </tbody>\n",
       "</table>\n",
       "</div>"
      ],
      "text/plain": [
       "               TEAM  GMS   TOTAL    AVG    PCT\n",
       "0     Chicago Bulls   41  888882  21680  103.6\n",
       "1  Dallas Mavericks   41  811366  19789  103.1\n",
       "2  Sacramento Kings   41  721928  17608  100.6\n",
       "3        Miami Heat   41  805400  19643  100.2\n",
       "4   Toronto Raptors   41  813050  19830  100.2"
      ]
     },
     "execution_count": 206,
     "metadata": {},
     "output_type": "execute_result"
    }
   ],
   "source": [
    "attendance_df = pd.read_csv(\"nba_2019_attendance.csv\")\n",
    "attendance_df.head()"
   ]
  },
  {
   "cell_type": "code",
   "execution_count": 207,
   "metadata": {
    "ExecuteTime": {
     "end_time": "2020-03-28T02:56:35.997203Z",
     "start_time": "2020-03-28T02:56:35.982723Z"
    }
   },
   "outputs": [
    {
     "name": "stdout",
     "output_type": "stream",
     "text": [
      "<class 'pandas.core.frame.DataFrame'>\n",
      "RangeIndex: 30 entries, 0 to 29\n",
      "Data columns (total 5 columns):\n",
      "TEAM     30 non-null object\n",
      "GMS      30 non-null int64\n",
      "TOTAL    30 non-null int64\n",
      "AVG      30 non-null int64\n",
      "PCT      30 non-null float64\n",
      "dtypes: float64(1), int64(3), object(1)\n",
      "memory usage: 1.3+ KB\n"
     ]
    }
   ],
   "source": [
    "attendance_df.info()"
   ]
  },
  {
   "cell_type": "code",
   "execution_count": 208,
   "metadata": {
    "ExecuteTime": {
     "end_time": "2020-03-28T02:56:36.179415Z",
     "start_time": "2020-03-28T02:56:36.147542Z"
    }
   },
   "outputs": [
    {
     "data": {
      "text/html": [
       "<div>\n",
       "<style scoped>\n",
       "    .dataframe tbody tr th:only-of-type {\n",
       "        vertical-align: middle;\n",
       "    }\n",
       "\n",
       "    .dataframe tbody tr th {\n",
       "        vertical-align: top;\n",
       "    }\n",
       "\n",
       "    .dataframe thead th {\n",
       "        text-align: right;\n",
       "    }\n",
       "</style>\n",
       "<table border=\"1\" class=\"dataframe\">\n",
       "  <thead>\n",
       "    <tr style=\"text-align: right;\">\n",
       "      <th></th>\n",
       "      <th>TEAM</th>\n",
       "      <th>VALUE_MILLIONS</th>\n",
       "    </tr>\n",
       "  </thead>\n",
       "  <tbody>\n",
       "    <tr>\n",
       "      <td>0</td>\n",
       "      <td>New York Knicks</td>\n",
       "      <td>3300.0</td>\n",
       "    </tr>\n",
       "    <tr>\n",
       "      <td>1</td>\n",
       "      <td>Los Angeles Lakers</td>\n",
       "      <td>3000.0</td>\n",
       "    </tr>\n",
       "    <tr>\n",
       "      <td>2</td>\n",
       "      <td>Golden State Warriors</td>\n",
       "      <td>2600.0</td>\n",
       "    </tr>\n",
       "    <tr>\n",
       "      <td>3</td>\n",
       "      <td>Chicago Bulls</td>\n",
       "      <td>2500.0</td>\n",
       "    </tr>\n",
       "    <tr>\n",
       "      <td>4</td>\n",
       "      <td>Boston Celtics</td>\n",
       "      <td>2200.0</td>\n",
       "    </tr>\n",
       "  </tbody>\n",
       "</table>\n",
       "</div>"
      ],
      "text/plain": [
       "                    TEAM  VALUE_MILLIONS\n",
       "0        New York Knicks          3300.0\n",
       "1     Los Angeles Lakers          3000.0\n",
       "2  Golden State Warriors          2600.0\n",
       "3          Chicago Bulls          2500.0\n",
       "4         Boston Celtics          2200.0"
      ]
     },
     "execution_count": 208,
     "metadata": {},
     "output_type": "execute_result"
    }
   ],
   "source": [
    "valuations_df = pd.read_csv(\"nba_2019_team_valuations.csv\")\n",
    "valuations_df.head()"
   ]
  },
  {
   "cell_type": "code",
   "execution_count": 209,
   "metadata": {
    "ExecuteTime": {
     "end_time": "2020-03-28T02:56:36.355700Z",
     "start_time": "2020-03-28T02:56:36.345192Z"
    }
   },
   "outputs": [
    {
     "name": "stdout",
     "output_type": "stream",
     "text": [
      "<class 'pandas.core.frame.DataFrame'>\n",
      "RangeIndex: 30 entries, 0 to 29\n",
      "Data columns (total 2 columns):\n",
      "TEAM              30 non-null object\n",
      "VALUE_MILLIONS    30 non-null float64\n",
      "dtypes: float64(1), object(1)\n",
      "memory usage: 608.0+ bytes\n"
     ]
    }
   ],
   "source": [
    "valuations_df.info()"
   ]
  },
  {
   "cell_type": "code",
   "execution_count": 210,
   "metadata": {
    "ExecuteTime": {
     "end_time": "2020-03-28T02:56:36.545802Z",
     "start_time": "2020-03-28T02:56:36.514807Z"
    }
   },
   "outputs": [
    {
     "data": {
      "text/html": [
       "<div>\n",
       "<style scoped>\n",
       "    .dataframe tbody tr th:only-of-type {\n",
       "        vertical-align: middle;\n",
       "    }\n",
       "\n",
       "    .dataframe tbody tr th {\n",
       "        vertical-align: top;\n",
       "    }\n",
       "\n",
       "    .dataframe thead th {\n",
       "        text-align: right;\n",
       "    }\n",
       "</style>\n",
       "<table border=\"1\" class=\"dataframe\">\n",
       "  <thead>\n",
       "    <tr style=\"text-align: right;\">\n",
       "      <th></th>\n",
       "      <th>ELO</th>\n",
       "      <th>TEAM</th>\n",
       "      <th>CONF</th>\n",
       "    </tr>\n",
       "  </thead>\n",
       "  <tbody>\n",
       "    <tr>\n",
       "      <td>0</td>\n",
       "      <td>1770</td>\n",
       "      <td>Golden State Warriors</td>\n",
       "      <td>West</td>\n",
       "    </tr>\n",
       "    <tr>\n",
       "      <td>1</td>\n",
       "      <td>1661</td>\n",
       "      <td>San Antonio Spurs</td>\n",
       "      <td>West</td>\n",
       "    </tr>\n",
       "    <tr>\n",
       "      <td>2</td>\n",
       "      <td>1636</td>\n",
       "      <td>Los Angeles Clippers</td>\n",
       "      <td>West</td>\n",
       "    </tr>\n",
       "    <tr>\n",
       "      <td>3</td>\n",
       "      <td>1617</td>\n",
       "      <td>Utah Jazz</td>\n",
       "      <td>West</td>\n",
       "    </tr>\n",
       "    <tr>\n",
       "      <td>4</td>\n",
       "      <td>1602</td>\n",
       "      <td>Houston Rockets</td>\n",
       "      <td>West</td>\n",
       "    </tr>\n",
       "  </tbody>\n",
       "</table>\n",
       "</div>"
      ],
      "text/plain": [
       "    ELO                   TEAM  CONF\n",
       "0  1770  Golden State Warriors  West\n",
       "1  1661      San Antonio Spurs  West\n",
       "2  1636   Los Angeles Clippers  West\n",
       "3  1617              Utah Jazz  West\n",
       "4  1602        Houston Rockets  West"
      ]
     },
     "execution_count": 210,
     "metadata": {},
     "output_type": "execute_result"
    }
   ],
   "source": [
    "elo_df = pd.read_csv(\"nba_2019_elo.csv\")\n",
    "elo_df.head()"
   ]
  },
  {
   "cell_type": "code",
   "execution_count": 211,
   "metadata": {
    "ExecuteTime": {
     "end_time": "2020-03-28T02:56:36.703301Z",
     "start_time": "2020-03-28T02:56:36.689484Z"
    }
   },
   "outputs": [
    {
     "name": "stdout",
     "output_type": "stream",
     "text": [
      "<class 'pandas.core.frame.DataFrame'>\n",
      "RangeIndex: 30 entries, 0 to 29\n",
      "Data columns (total 3 columns):\n",
      "ELO     30 non-null int64\n",
      "TEAM    30 non-null object\n",
      "CONF    30 non-null object\n",
      "dtypes: int64(1), object(2)\n",
      "memory usage: 848.0+ bytes\n"
     ]
    }
   ],
   "source": [
    "elo_df.info()"
   ]
  },
  {
   "cell_type": "markdown",
   "metadata": {},
   "source": [
    "After reading these datasets, we are going to merge them to have all the info in one dataset to work with the data.\n",
    "\n",
    "We do the merge on the common parameter: TEAM"
   ]
  },
  {
   "cell_type": "code",
   "execution_count": 212,
   "metadata": {
    "ExecuteTime": {
     "end_time": "2020-03-28T02:56:36.886477Z",
     "start_time": "2020-03-28T02:56:36.848354Z"
    }
   },
   "outputs": [
    {
     "data": {
      "text/html": [
       "<div>\n",
       "<style scoped>\n",
       "    .dataframe tbody tr th:only-of-type {\n",
       "        vertical-align: middle;\n",
       "    }\n",
       "\n",
       "    .dataframe tbody tr th {\n",
       "        vertical-align: top;\n",
       "    }\n",
       "\n",
       "    .dataframe thead th {\n",
       "        text-align: right;\n",
       "    }\n",
       "</style>\n",
       "<table border=\"1\" class=\"dataframe\">\n",
       "  <thead>\n",
       "    <tr style=\"text-align: right;\">\n",
       "      <th></th>\n",
       "      <th>TEAM</th>\n",
       "      <th>GMS</th>\n",
       "      <th>TOTAL</th>\n",
       "      <th>AVG</th>\n",
       "      <th>PCT</th>\n",
       "      <th>VALUE_MILLIONS</th>\n",
       "      <th>ELO</th>\n",
       "      <th>CONF</th>\n",
       "    </tr>\n",
       "  </thead>\n",
       "  <tbody>\n",
       "    <tr>\n",
       "      <td>0</td>\n",
       "      <td>Chicago Bulls</td>\n",
       "      <td>41</td>\n",
       "      <td>888882</td>\n",
       "      <td>21680</td>\n",
       "      <td>103.6</td>\n",
       "      <td>2500.0</td>\n",
       "      <td>1519</td>\n",
       "      <td>East</td>\n",
       "    </tr>\n",
       "    <tr>\n",
       "      <td>1</td>\n",
       "      <td>Dallas Mavericks</td>\n",
       "      <td>41</td>\n",
       "      <td>811366</td>\n",
       "      <td>19789</td>\n",
       "      <td>103.1</td>\n",
       "      <td>1450.0</td>\n",
       "      <td>1420</td>\n",
       "      <td>West</td>\n",
       "    </tr>\n",
       "    <tr>\n",
       "      <td>2</td>\n",
       "      <td>Sacramento Kings</td>\n",
       "      <td>41</td>\n",
       "      <td>721928</td>\n",
       "      <td>17608</td>\n",
       "      <td>100.6</td>\n",
       "      <td>1075.0</td>\n",
       "      <td>1393</td>\n",
       "      <td>West</td>\n",
       "    </tr>\n",
       "    <tr>\n",
       "      <td>3</td>\n",
       "      <td>Miami Heat</td>\n",
       "      <td>41</td>\n",
       "      <td>805400</td>\n",
       "      <td>19643</td>\n",
       "      <td>100.2</td>\n",
       "      <td>1350.0</td>\n",
       "      <td>1569</td>\n",
       "      <td>East</td>\n",
       "    </tr>\n",
       "    <tr>\n",
       "      <td>4</td>\n",
       "      <td>Toronto Raptors</td>\n",
       "      <td>41</td>\n",
       "      <td>813050</td>\n",
       "      <td>19830</td>\n",
       "      <td>100.2</td>\n",
       "      <td>1125.0</td>\n",
       "      <td>1600</td>\n",
       "      <td>East</td>\n",
       "    </tr>\n",
       "  </tbody>\n",
       "</table>\n",
       "</div>"
      ],
      "text/plain": [
       "               TEAM  GMS   TOTAL    AVG    PCT  VALUE_MILLIONS   ELO  CONF\n",
       "0     Chicago Bulls   41  888882  21680  103.6          2500.0  1519  East\n",
       "1  Dallas Mavericks   41  811366  19789  103.1          1450.0  1420  West\n",
       "2  Sacramento Kings   41  721928  17608  100.6          1075.0  1393  West\n",
       "3        Miami Heat   41  805400  19643  100.2          1350.0  1569  East\n",
       "4   Toronto Raptors   41  813050  19830  100.2          1125.0  1600  East"
      ]
     },
     "execution_count": 212,
     "metadata": {},
     "output_type": "execute_result"
    }
   ],
   "source": [
    "attendance_valuations_df = attendance_df.merge(valuations_df, how=\"inner\", on=\"TEAM\")\n",
    "attendance_valuations_elo_df = attendance_valuations_df.merge(elo_df, how=\"inner\", on=\"TEAM\")\n",
    "merged_atvaelo_df = attendance_valuations_elo_df\n",
    "merged_atvaelo_df.head()"
   ]
  },
  {
   "cell_type": "code",
   "execution_count": 218,
   "metadata": {
    "ExecuteTime": {
     "end_time": "2020-03-28T02:58:09.309865Z",
     "start_time": "2020-03-28T02:58:08.174322Z"
    }
   },
   "outputs": [
    {
     "data": {
      "application/vnd.plotly.v1+json": {
       "config": {
        "linkText": "Export to plot.ly",
        "plotlyServerURL": "https://plot.ly",
        "showLink": false
       },
       "data": [
        {
         "marker": {
          "color": "orange"
         },
         "name": "Team Value",
         "type": "bar",
         "x": [
          "Chicago Bulls",
          "Dallas Mavericks",
          "Sacramento Kings",
          "Miami Heat",
          "Toronto Raptors",
          "Los Angeles Clippers",
          "Cleveland Cavaliers",
          "Golden State Warriors",
          "Oklahoma City Thunder",
          "New York Knicks",
          "Boston Celtics",
          "Los Angeles Lakers",
          "Portland Trail Blazers",
          "San Antonio Spurs",
          "Utah Jazz",
          "Orlando Magic",
          "New Orleans Pelicans",
          "Houston Rockets",
          "Phoenix Suns",
          "Indiana Pacers",
          "Memphis Grizzlies",
          "Charlotte Hornets",
          "Philadelphia 76ers",
          "Atlanta Hawks",
          "Brooklyn Nets",
          "Milwaukee Bucks",
          "Washington Wizards",
          "Denver Nuggets",
          "Minnesota Timberwolves",
          "Detroit Pistons"
         ],
         "y": [
          2500,
          1450,
          1075,
          1350,
          1125,
          2000,
          1200,
          2600,
          1025,
          3300,
          2200,
          3000,
          1050,
          1175,
          910,
          920,
          750,
          1650,
          1100,
          880,
          790,
          780,
          800,
          885,
          1800,
          785,
          1000,
          890,
          770,
          900
         ]
        }
       ],
       "layout": {
        "bargap": 0.2,
        "bargroupgap": 0.1,
        "barmode": "group",
        "legend": {
         "bgcolor": "white",
         "bordercolor": "white",
         "x": 1,
         "y": 1
        },
        "plot_bgcolor": "#9c9c9c",
        "template": {
         "data": {
          "bar": [
           {
            "error_x": {
             "color": "#2a3f5f"
            },
            "error_y": {
             "color": "#2a3f5f"
            },
            "marker": {
             "line": {
              "color": "#E5ECF6",
              "width": 0.5
             }
            },
            "type": "bar"
           }
          ],
          "barpolar": [
           {
            "marker": {
             "line": {
              "color": "#E5ECF6",
              "width": 0.5
             }
            },
            "type": "barpolar"
           }
          ],
          "carpet": [
           {
            "aaxis": {
             "endlinecolor": "#2a3f5f",
             "gridcolor": "white",
             "linecolor": "white",
             "minorgridcolor": "white",
             "startlinecolor": "#2a3f5f"
            },
            "baxis": {
             "endlinecolor": "#2a3f5f",
             "gridcolor": "white",
             "linecolor": "white",
             "minorgridcolor": "white",
             "startlinecolor": "#2a3f5f"
            },
            "type": "carpet"
           }
          ],
          "choropleth": [
           {
            "colorbar": {
             "outlinewidth": 0,
             "ticks": ""
            },
            "type": "choropleth"
           }
          ],
          "contour": [
           {
            "colorbar": {
             "outlinewidth": 0,
             "ticks": ""
            },
            "colorscale": [
             [
              0,
              "#0d0887"
             ],
             [
              0.1111111111111111,
              "#46039f"
             ],
             [
              0.2222222222222222,
              "#7201a8"
             ],
             [
              0.3333333333333333,
              "#9c179e"
             ],
             [
              0.4444444444444444,
              "#bd3786"
             ],
             [
              0.5555555555555556,
              "#d8576b"
             ],
             [
              0.6666666666666666,
              "#ed7953"
             ],
             [
              0.7777777777777778,
              "#fb9f3a"
             ],
             [
              0.8888888888888888,
              "#fdca26"
             ],
             [
              1,
              "#f0f921"
             ]
            ],
            "type": "contour"
           }
          ],
          "contourcarpet": [
           {
            "colorbar": {
             "outlinewidth": 0,
             "ticks": ""
            },
            "type": "contourcarpet"
           }
          ],
          "heatmap": [
           {
            "colorbar": {
             "outlinewidth": 0,
             "ticks": ""
            },
            "colorscale": [
             [
              0,
              "#0d0887"
             ],
             [
              0.1111111111111111,
              "#46039f"
             ],
             [
              0.2222222222222222,
              "#7201a8"
             ],
             [
              0.3333333333333333,
              "#9c179e"
             ],
             [
              0.4444444444444444,
              "#bd3786"
             ],
             [
              0.5555555555555556,
              "#d8576b"
             ],
             [
              0.6666666666666666,
              "#ed7953"
             ],
             [
              0.7777777777777778,
              "#fb9f3a"
             ],
             [
              0.8888888888888888,
              "#fdca26"
             ],
             [
              1,
              "#f0f921"
             ]
            ],
            "type": "heatmap"
           }
          ],
          "heatmapgl": [
           {
            "colorbar": {
             "outlinewidth": 0,
             "ticks": ""
            },
            "colorscale": [
             [
              0,
              "#0d0887"
             ],
             [
              0.1111111111111111,
              "#46039f"
             ],
             [
              0.2222222222222222,
              "#7201a8"
             ],
             [
              0.3333333333333333,
              "#9c179e"
             ],
             [
              0.4444444444444444,
              "#bd3786"
             ],
             [
              0.5555555555555556,
              "#d8576b"
             ],
             [
              0.6666666666666666,
              "#ed7953"
             ],
             [
              0.7777777777777778,
              "#fb9f3a"
             ],
             [
              0.8888888888888888,
              "#fdca26"
             ],
             [
              1,
              "#f0f921"
             ]
            ],
            "type": "heatmapgl"
           }
          ],
          "histogram": [
           {
            "marker": {
             "colorbar": {
              "outlinewidth": 0,
              "ticks": ""
             }
            },
            "type": "histogram"
           }
          ],
          "histogram2d": [
           {
            "colorbar": {
             "outlinewidth": 0,
             "ticks": ""
            },
            "colorscale": [
             [
              0,
              "#0d0887"
             ],
             [
              0.1111111111111111,
              "#46039f"
             ],
             [
              0.2222222222222222,
              "#7201a8"
             ],
             [
              0.3333333333333333,
              "#9c179e"
             ],
             [
              0.4444444444444444,
              "#bd3786"
             ],
             [
              0.5555555555555556,
              "#d8576b"
             ],
             [
              0.6666666666666666,
              "#ed7953"
             ],
             [
              0.7777777777777778,
              "#fb9f3a"
             ],
             [
              0.8888888888888888,
              "#fdca26"
             ],
             [
              1,
              "#f0f921"
             ]
            ],
            "type": "histogram2d"
           }
          ],
          "histogram2dcontour": [
           {
            "colorbar": {
             "outlinewidth": 0,
             "ticks": ""
            },
            "colorscale": [
             [
              0,
              "#0d0887"
             ],
             [
              0.1111111111111111,
              "#46039f"
             ],
             [
              0.2222222222222222,
              "#7201a8"
             ],
             [
              0.3333333333333333,
              "#9c179e"
             ],
             [
              0.4444444444444444,
              "#bd3786"
             ],
             [
              0.5555555555555556,
              "#d8576b"
             ],
             [
              0.6666666666666666,
              "#ed7953"
             ],
             [
              0.7777777777777778,
              "#fb9f3a"
             ],
             [
              0.8888888888888888,
              "#fdca26"
             ],
             [
              1,
              "#f0f921"
             ]
            ],
            "type": "histogram2dcontour"
           }
          ],
          "mesh3d": [
           {
            "colorbar": {
             "outlinewidth": 0,
             "ticks": ""
            },
            "type": "mesh3d"
           }
          ],
          "parcoords": [
           {
            "line": {
             "colorbar": {
              "outlinewidth": 0,
              "ticks": ""
             }
            },
            "type": "parcoords"
           }
          ],
          "pie": [
           {
            "automargin": true,
            "type": "pie"
           }
          ],
          "scatter": [
           {
            "marker": {
             "colorbar": {
              "outlinewidth": 0,
              "ticks": ""
             }
            },
            "type": "scatter"
           }
          ],
          "scatter3d": [
           {
            "line": {
             "colorbar": {
              "outlinewidth": 0,
              "ticks": ""
             }
            },
            "marker": {
             "colorbar": {
              "outlinewidth": 0,
              "ticks": ""
             }
            },
            "type": "scatter3d"
           }
          ],
          "scattercarpet": [
           {
            "marker": {
             "colorbar": {
              "outlinewidth": 0,
              "ticks": ""
             }
            },
            "type": "scattercarpet"
           }
          ],
          "scattergeo": [
           {
            "marker": {
             "colorbar": {
              "outlinewidth": 0,
              "ticks": ""
             }
            },
            "type": "scattergeo"
           }
          ],
          "scattergl": [
           {
            "marker": {
             "colorbar": {
              "outlinewidth": 0,
              "ticks": ""
             }
            },
            "type": "scattergl"
           }
          ],
          "scattermapbox": [
           {
            "marker": {
             "colorbar": {
              "outlinewidth": 0,
              "ticks": ""
             }
            },
            "type": "scattermapbox"
           }
          ],
          "scatterpolar": [
           {
            "marker": {
             "colorbar": {
              "outlinewidth": 0,
              "ticks": ""
             }
            },
            "type": "scatterpolar"
           }
          ],
          "scatterpolargl": [
           {
            "marker": {
             "colorbar": {
              "outlinewidth": 0,
              "ticks": ""
             }
            },
            "type": "scatterpolargl"
           }
          ],
          "scatterternary": [
           {
            "marker": {
             "colorbar": {
              "outlinewidth": 0,
              "ticks": ""
             }
            },
            "type": "scatterternary"
           }
          ],
          "surface": [
           {
            "colorbar": {
             "outlinewidth": 0,
             "ticks": ""
            },
            "colorscale": [
             [
              0,
              "#0d0887"
             ],
             [
              0.1111111111111111,
              "#46039f"
             ],
             [
              0.2222222222222222,
              "#7201a8"
             ],
             [
              0.3333333333333333,
              "#9c179e"
             ],
             [
              0.4444444444444444,
              "#bd3786"
             ],
             [
              0.5555555555555556,
              "#d8576b"
             ],
             [
              0.6666666666666666,
              "#ed7953"
             ],
             [
              0.7777777777777778,
              "#fb9f3a"
             ],
             [
              0.8888888888888888,
              "#fdca26"
             ],
             [
              1,
              "#f0f921"
             ]
            ],
            "type": "surface"
           }
          ],
          "table": [
           {
            "cells": {
             "fill": {
              "color": "#EBF0F8"
             },
             "line": {
              "color": "white"
             }
            },
            "header": {
             "fill": {
              "color": "#C8D4E3"
             },
             "line": {
              "color": "white"
             }
            },
            "type": "table"
           }
          ]
         },
         "layout": {
          "annotationdefaults": {
           "arrowcolor": "#2a3f5f",
           "arrowhead": 0,
           "arrowwidth": 1
          },
          "coloraxis": {
           "colorbar": {
            "outlinewidth": 0,
            "ticks": ""
           }
          },
          "colorscale": {
           "diverging": [
            [
             0,
             "#8e0152"
            ],
            [
             0.1,
             "#c51b7d"
            ],
            [
             0.2,
             "#de77ae"
            ],
            [
             0.3,
             "#f1b6da"
            ],
            [
             0.4,
             "#fde0ef"
            ],
            [
             0.5,
             "#f7f7f7"
            ],
            [
             0.6,
             "#e6f5d0"
            ],
            [
             0.7,
             "#b8e186"
            ],
            [
             0.8,
             "#7fbc41"
            ],
            [
             0.9,
             "#4d9221"
            ],
            [
             1,
             "#276419"
            ]
           ],
           "sequential": [
            [
             0,
             "#0d0887"
            ],
            [
             0.1111111111111111,
             "#46039f"
            ],
            [
             0.2222222222222222,
             "#7201a8"
            ],
            [
             0.3333333333333333,
             "#9c179e"
            ],
            [
             0.4444444444444444,
             "#bd3786"
            ],
            [
             0.5555555555555556,
             "#d8576b"
            ],
            [
             0.6666666666666666,
             "#ed7953"
            ],
            [
             0.7777777777777778,
             "#fb9f3a"
            ],
            [
             0.8888888888888888,
             "#fdca26"
            ],
            [
             1,
             "#f0f921"
            ]
           ],
           "sequentialminus": [
            [
             0,
             "#0d0887"
            ],
            [
             0.1111111111111111,
             "#46039f"
            ],
            [
             0.2222222222222222,
             "#7201a8"
            ],
            [
             0.3333333333333333,
             "#9c179e"
            ],
            [
             0.4444444444444444,
             "#bd3786"
            ],
            [
             0.5555555555555556,
             "#d8576b"
            ],
            [
             0.6666666666666666,
             "#ed7953"
            ],
            [
             0.7777777777777778,
             "#fb9f3a"
            ],
            [
             0.8888888888888888,
             "#fdca26"
            ],
            [
             1,
             "#f0f921"
            ]
           ]
          },
          "colorway": [
           "#636efa",
           "#EF553B",
           "#00cc96",
           "#ab63fa",
           "#FFA15A",
           "#19d3f3",
           "#FF6692",
           "#B6E880",
           "#FF97FF",
           "#FECB52"
          ],
          "font": {
           "color": "#2a3f5f"
          },
          "geo": {
           "bgcolor": "white",
           "lakecolor": "white",
           "landcolor": "#E5ECF6",
           "showlakes": true,
           "showland": true,
           "subunitcolor": "white"
          },
          "hoverlabel": {
           "align": "left"
          },
          "hovermode": "closest",
          "mapbox": {
           "style": "light"
          },
          "paper_bgcolor": "white",
          "plot_bgcolor": "#E5ECF6",
          "polar": {
           "angularaxis": {
            "gridcolor": "white",
            "linecolor": "white",
            "ticks": ""
           },
           "bgcolor": "#E5ECF6",
           "radialaxis": {
            "gridcolor": "white",
            "linecolor": "white",
            "ticks": ""
           }
          },
          "scene": {
           "xaxis": {
            "backgroundcolor": "#E5ECF6",
            "gridcolor": "white",
            "gridwidth": 2,
            "linecolor": "white",
            "showbackground": true,
            "ticks": "",
            "zerolinecolor": "white"
           },
           "yaxis": {
            "backgroundcolor": "#E5ECF6",
            "gridcolor": "white",
            "gridwidth": 2,
            "linecolor": "white",
            "showbackground": true,
            "ticks": "",
            "zerolinecolor": "white"
           },
           "zaxis": {
            "backgroundcolor": "#E5ECF6",
            "gridcolor": "white",
            "gridwidth": 2,
            "linecolor": "white",
            "showbackground": true,
            "ticks": "",
            "zerolinecolor": "white"
           }
          },
          "shapedefaults": {
           "line": {
            "color": "#2a3f5f"
           }
          },
          "ternary": {
           "aaxis": {
            "gridcolor": "white",
            "linecolor": "white",
            "ticks": ""
           },
           "baxis": {
            "gridcolor": "white",
            "linecolor": "white",
            "ticks": ""
           },
           "bgcolor": "#E5ECF6",
           "caxis": {
            "gridcolor": "white",
            "linecolor": "white",
            "ticks": ""
           }
          },
          "title": {
           "x": 0.05
          },
          "xaxis": {
           "automargin": true,
           "gridcolor": "white",
           "linecolor": "white",
           "ticks": "",
           "title": {
            "standoff": 15
           },
           "zerolinecolor": "white",
           "zerolinewidth": 2
          },
          "yaxis": {
           "automargin": true,
           "gridcolor": "white",
           "linecolor": "white",
           "ticks": "",
           "title": {
            "standoff": 15
           },
           "zerolinecolor": "white",
           "zerolinewidth": 2
          }
         }
        },
        "title": {
         "text": "Value of NBA Teams"
        },
        "xaxis": {
         "tickfont": {
          "color": "#0080ff",
          "size": 14
         },
         "title": {
          "font": {
           "color": "black",
           "size": 16
          },
          "text": "Teams"
         }
        },
        "yaxis": {
         "gridcolor": "white",
         "gridwidth": 0.2,
         "showgrid": true,
         "tickfont": {
          "color": "#0080ff",
          "size": 14
         },
         "title": {
          "font": {
           "color": "black",
           "size": 16
          },
          "text": "Millions"
         }
        }
       }
      },
      "text/html": [
       "<div>\n",
       "        \n",
       "        \n",
       "            <div id=\"e251468e-6199-42df-8aca-29fdcfaa9558\" class=\"plotly-graph-div\" style=\"height:525px; width:100%;\"></div>\n",
       "            <script type=\"text/javascript\">\n",
       "                require([\"plotly\"], function(Plotly) {\n",
       "                    window.PLOTLYENV=window.PLOTLYENV || {};\n",
       "                    \n",
       "                if (document.getElementById(\"e251468e-6199-42df-8aca-29fdcfaa9558\")) {\n",
       "                    Plotly.newPlot(\n",
       "                        'e251468e-6199-42df-8aca-29fdcfaa9558',\n",
       "                        [{\"marker\": {\"color\": \"orange\"}, \"name\": \"Team Value\", \"type\": \"bar\", \"x\": [\"Chicago Bulls\", \"Dallas Mavericks\", \"Sacramento Kings\", \"Miami Heat\", \"Toronto Raptors\", \"Los Angeles Clippers\", \"Cleveland Cavaliers\", \"Golden State Warriors\", \"Oklahoma City Thunder\", \"New York Knicks\", \"Boston Celtics\", \"Los Angeles Lakers\", \"Portland Trail Blazers\", \"San Antonio Spurs\", \"Utah Jazz\", \"Orlando Magic\", \"New Orleans Pelicans\", \"Houston Rockets\", \"Phoenix Suns\", \"Indiana Pacers\", \"Memphis Grizzlies\", \"Charlotte Hornets\", \"Philadelphia 76ers\", \"Atlanta Hawks\", \"Brooklyn Nets\", \"Milwaukee Bucks\", \"Washington Wizards\", \"Denver Nuggets\", \"Minnesota Timberwolves\", \"Detroit Pistons\"], \"y\": [2500.0, 1450.0, 1075.0, 1350.0, 1125.0, 2000.0, 1200.0, 2600.0, 1025.0, 3300.0, 2200.0, 3000.0, 1050.0, 1175.0, 910.0, 920.0, 750.0, 1650.0, 1100.0, 880.0, 790.0, 780.0, 800.0, 885.0, 1800.0, 785.0, 1000.0, 890.0, 770.0, 900.0]}],\n",
       "                        {\"bargap\": 0.2, \"bargroupgap\": 0.1, \"barmode\": \"group\", \"legend\": {\"bgcolor\": \"white\", \"bordercolor\": \"white\", \"x\": 1, \"y\": 1.0}, \"plot_bgcolor\": \"#9c9c9c\", \"template\": {\"data\": {\"bar\": [{\"error_x\": {\"color\": \"#2a3f5f\"}, \"error_y\": {\"color\": \"#2a3f5f\"}, \"marker\": {\"line\": {\"color\": \"#E5ECF6\", \"width\": 0.5}}, \"type\": \"bar\"}], \"barpolar\": [{\"marker\": {\"line\": {\"color\": \"#E5ECF6\", \"width\": 0.5}}, \"type\": \"barpolar\"}], \"carpet\": [{\"aaxis\": {\"endlinecolor\": \"#2a3f5f\", \"gridcolor\": \"white\", \"linecolor\": \"white\", \"minorgridcolor\": \"white\", \"startlinecolor\": \"#2a3f5f\"}, \"baxis\": {\"endlinecolor\": \"#2a3f5f\", \"gridcolor\": \"white\", \"linecolor\": \"white\", \"minorgridcolor\": \"white\", \"startlinecolor\": \"#2a3f5f\"}, \"type\": \"carpet\"}], \"choropleth\": [{\"colorbar\": {\"outlinewidth\": 0, \"ticks\": \"\"}, \"type\": \"choropleth\"}], \"contour\": [{\"colorbar\": {\"outlinewidth\": 0, \"ticks\": \"\"}, \"colorscale\": [[0.0, \"#0d0887\"], [0.1111111111111111, \"#46039f\"], [0.2222222222222222, \"#7201a8\"], [0.3333333333333333, \"#9c179e\"], [0.4444444444444444, \"#bd3786\"], [0.5555555555555556, \"#d8576b\"], [0.6666666666666666, \"#ed7953\"], [0.7777777777777778, \"#fb9f3a\"], [0.8888888888888888, \"#fdca26\"], [1.0, \"#f0f921\"]], \"type\": \"contour\"}], \"contourcarpet\": [{\"colorbar\": {\"outlinewidth\": 0, \"ticks\": \"\"}, \"type\": \"contourcarpet\"}], \"heatmap\": [{\"colorbar\": {\"outlinewidth\": 0, \"ticks\": \"\"}, \"colorscale\": [[0.0, \"#0d0887\"], [0.1111111111111111, \"#46039f\"], [0.2222222222222222, \"#7201a8\"], [0.3333333333333333, \"#9c179e\"], [0.4444444444444444, \"#bd3786\"], [0.5555555555555556, \"#d8576b\"], [0.6666666666666666, \"#ed7953\"], [0.7777777777777778, \"#fb9f3a\"], [0.8888888888888888, \"#fdca26\"], [1.0, \"#f0f921\"]], \"type\": \"heatmap\"}], \"heatmapgl\": [{\"colorbar\": {\"outlinewidth\": 0, \"ticks\": \"\"}, \"colorscale\": [[0.0, \"#0d0887\"], [0.1111111111111111, \"#46039f\"], [0.2222222222222222, \"#7201a8\"], [0.3333333333333333, \"#9c179e\"], [0.4444444444444444, \"#bd3786\"], [0.5555555555555556, \"#d8576b\"], [0.6666666666666666, \"#ed7953\"], [0.7777777777777778, \"#fb9f3a\"], [0.8888888888888888, \"#fdca26\"], [1.0, \"#f0f921\"]], \"type\": \"heatmapgl\"}], \"histogram\": [{\"marker\": {\"colorbar\": {\"outlinewidth\": 0, \"ticks\": \"\"}}, \"type\": \"histogram\"}], \"histogram2d\": [{\"colorbar\": {\"outlinewidth\": 0, \"ticks\": \"\"}, \"colorscale\": [[0.0, \"#0d0887\"], [0.1111111111111111, \"#46039f\"], [0.2222222222222222, \"#7201a8\"], [0.3333333333333333, \"#9c179e\"], [0.4444444444444444, \"#bd3786\"], [0.5555555555555556, \"#d8576b\"], [0.6666666666666666, \"#ed7953\"], [0.7777777777777778, \"#fb9f3a\"], [0.8888888888888888, \"#fdca26\"], [1.0, \"#f0f921\"]], \"type\": \"histogram2d\"}], \"histogram2dcontour\": [{\"colorbar\": {\"outlinewidth\": 0, \"ticks\": \"\"}, \"colorscale\": [[0.0, \"#0d0887\"], [0.1111111111111111, \"#46039f\"], [0.2222222222222222, \"#7201a8\"], [0.3333333333333333, \"#9c179e\"], [0.4444444444444444, \"#bd3786\"], [0.5555555555555556, \"#d8576b\"], [0.6666666666666666, \"#ed7953\"], [0.7777777777777778, \"#fb9f3a\"], [0.8888888888888888, \"#fdca26\"], [1.0, \"#f0f921\"]], \"type\": \"histogram2dcontour\"}], \"mesh3d\": [{\"colorbar\": {\"outlinewidth\": 0, \"ticks\": \"\"}, \"type\": \"mesh3d\"}], \"parcoords\": [{\"line\": {\"colorbar\": {\"outlinewidth\": 0, \"ticks\": \"\"}}, \"type\": \"parcoords\"}], \"pie\": [{\"automargin\": true, \"type\": \"pie\"}], \"scatter\": [{\"marker\": {\"colorbar\": {\"outlinewidth\": 0, \"ticks\": \"\"}}, \"type\": \"scatter\"}], \"scatter3d\": [{\"line\": {\"colorbar\": {\"outlinewidth\": 0, \"ticks\": \"\"}}, \"marker\": {\"colorbar\": {\"outlinewidth\": 0, \"ticks\": \"\"}}, \"type\": \"scatter3d\"}], \"scattercarpet\": [{\"marker\": {\"colorbar\": {\"outlinewidth\": 0, \"ticks\": \"\"}}, \"type\": \"scattercarpet\"}], \"scattergeo\": [{\"marker\": {\"colorbar\": {\"outlinewidth\": 0, \"ticks\": \"\"}}, \"type\": \"scattergeo\"}], \"scattergl\": [{\"marker\": {\"colorbar\": {\"outlinewidth\": 0, \"ticks\": \"\"}}, \"type\": \"scattergl\"}], \"scattermapbox\": [{\"marker\": {\"colorbar\": {\"outlinewidth\": 0, \"ticks\": \"\"}}, \"type\": \"scattermapbox\"}], \"scatterpolar\": [{\"marker\": {\"colorbar\": {\"outlinewidth\": 0, \"ticks\": \"\"}}, \"type\": \"scatterpolar\"}], \"scatterpolargl\": [{\"marker\": {\"colorbar\": {\"outlinewidth\": 0, \"ticks\": \"\"}}, \"type\": \"scatterpolargl\"}], \"scatterternary\": [{\"marker\": {\"colorbar\": {\"outlinewidth\": 0, \"ticks\": \"\"}}, \"type\": \"scatterternary\"}], \"surface\": [{\"colorbar\": {\"outlinewidth\": 0, \"ticks\": \"\"}, \"colorscale\": [[0.0, \"#0d0887\"], [0.1111111111111111, \"#46039f\"], [0.2222222222222222, \"#7201a8\"], [0.3333333333333333, \"#9c179e\"], [0.4444444444444444, \"#bd3786\"], [0.5555555555555556, \"#d8576b\"], [0.6666666666666666, \"#ed7953\"], [0.7777777777777778, \"#fb9f3a\"], [0.8888888888888888, \"#fdca26\"], [1.0, \"#f0f921\"]], \"type\": \"surface\"}], \"table\": [{\"cells\": {\"fill\": {\"color\": \"#EBF0F8\"}, \"line\": {\"color\": \"white\"}}, \"header\": {\"fill\": {\"color\": \"#C8D4E3\"}, \"line\": {\"color\": \"white\"}}, \"type\": \"table\"}]}, \"layout\": {\"annotationdefaults\": {\"arrowcolor\": \"#2a3f5f\", \"arrowhead\": 0, \"arrowwidth\": 1}, \"coloraxis\": {\"colorbar\": {\"outlinewidth\": 0, \"ticks\": \"\"}}, \"colorscale\": {\"diverging\": [[0, \"#8e0152\"], [0.1, \"#c51b7d\"], [0.2, \"#de77ae\"], [0.3, \"#f1b6da\"], [0.4, \"#fde0ef\"], [0.5, \"#f7f7f7\"], [0.6, \"#e6f5d0\"], [0.7, \"#b8e186\"], [0.8, \"#7fbc41\"], [0.9, \"#4d9221\"], [1, \"#276419\"]], \"sequential\": [[0.0, \"#0d0887\"], [0.1111111111111111, \"#46039f\"], [0.2222222222222222, \"#7201a8\"], [0.3333333333333333, \"#9c179e\"], [0.4444444444444444, \"#bd3786\"], [0.5555555555555556, \"#d8576b\"], [0.6666666666666666, \"#ed7953\"], [0.7777777777777778, \"#fb9f3a\"], [0.8888888888888888, \"#fdca26\"], [1.0, \"#f0f921\"]], \"sequentialminus\": [[0.0, \"#0d0887\"], [0.1111111111111111, \"#46039f\"], [0.2222222222222222, \"#7201a8\"], [0.3333333333333333, \"#9c179e\"], [0.4444444444444444, \"#bd3786\"], [0.5555555555555556, \"#d8576b\"], [0.6666666666666666, \"#ed7953\"], [0.7777777777777778, \"#fb9f3a\"], [0.8888888888888888, \"#fdca26\"], [1.0, \"#f0f921\"]]}, \"colorway\": [\"#636efa\", \"#EF553B\", \"#00cc96\", \"#ab63fa\", \"#FFA15A\", \"#19d3f3\", \"#FF6692\", \"#B6E880\", \"#FF97FF\", \"#FECB52\"], \"font\": {\"color\": \"#2a3f5f\"}, \"geo\": {\"bgcolor\": \"white\", \"lakecolor\": \"white\", \"landcolor\": \"#E5ECF6\", \"showlakes\": true, \"showland\": true, \"subunitcolor\": \"white\"}, \"hoverlabel\": {\"align\": \"left\"}, \"hovermode\": \"closest\", \"mapbox\": {\"style\": \"light\"}, \"paper_bgcolor\": \"white\", \"plot_bgcolor\": \"#E5ECF6\", \"polar\": {\"angularaxis\": {\"gridcolor\": \"white\", \"linecolor\": \"white\", \"ticks\": \"\"}, \"bgcolor\": \"#E5ECF6\", \"radialaxis\": {\"gridcolor\": \"white\", \"linecolor\": \"white\", \"ticks\": \"\"}}, \"scene\": {\"xaxis\": {\"backgroundcolor\": \"#E5ECF6\", \"gridcolor\": \"white\", \"gridwidth\": 2, \"linecolor\": \"white\", \"showbackground\": true, \"ticks\": \"\", \"zerolinecolor\": \"white\"}, \"yaxis\": {\"backgroundcolor\": \"#E5ECF6\", \"gridcolor\": \"white\", \"gridwidth\": 2, \"linecolor\": \"white\", \"showbackground\": true, \"ticks\": \"\", \"zerolinecolor\": \"white\"}, \"zaxis\": {\"backgroundcolor\": \"#E5ECF6\", \"gridcolor\": \"white\", \"gridwidth\": 2, \"linecolor\": \"white\", \"showbackground\": true, \"ticks\": \"\", \"zerolinecolor\": \"white\"}}, \"shapedefaults\": {\"line\": {\"color\": \"#2a3f5f\"}}, \"ternary\": {\"aaxis\": {\"gridcolor\": \"white\", \"linecolor\": \"white\", \"ticks\": \"\"}, \"baxis\": {\"gridcolor\": \"white\", \"linecolor\": \"white\", \"ticks\": \"\"}, \"bgcolor\": \"#E5ECF6\", \"caxis\": {\"gridcolor\": \"white\", \"linecolor\": \"white\", \"ticks\": \"\"}}, \"title\": {\"x\": 0.05}, \"xaxis\": {\"automargin\": true, \"gridcolor\": \"white\", \"linecolor\": \"white\", \"ticks\": \"\", \"title\": {\"standoff\": 15}, \"zerolinecolor\": \"white\", \"zerolinewidth\": 2}, \"yaxis\": {\"automargin\": true, \"gridcolor\": \"white\", \"linecolor\": \"white\", \"ticks\": \"\", \"title\": {\"standoff\": 15}, \"zerolinecolor\": \"white\", \"zerolinewidth\": 2}}}, \"title\": {\"text\": \"Value of NBA Teams\"}, \"xaxis\": {\"tickfont\": {\"color\": \"#0080ff\", \"size\": 14}, \"title\": {\"font\": {\"color\": \"black\", \"size\": 16}, \"text\": \"Teams\"}}, \"yaxis\": {\"gridcolor\": \"white\", \"gridwidth\": 0.2, \"showgrid\": true, \"tickfont\": {\"color\": \"#0080ff\", \"size\": 14}, \"title\": {\"font\": {\"color\": \"black\", \"size\": 16}, \"text\": \"Millions\"}}},\n",
       "                        {\"responsive\": true}\n",
       "                    ).then(function(){\n",
       "                            \n",
       "var gd = document.getElementById('e251468e-6199-42df-8aca-29fdcfaa9558');\n",
       "var x = new MutationObserver(function (mutations, observer) {{\n",
       "        var display = window.getComputedStyle(gd).display;\n",
       "        if (!display || display === 'none') {{\n",
       "            console.log([gd, 'removed!']);\n",
       "            Plotly.purge(gd);\n",
       "            observer.disconnect();\n",
       "        }}\n",
       "}});\n",
       "\n",
       "// Listen for the removal of the full notebook cells\n",
       "var notebookContainer = gd.closest('#notebook-container');\n",
       "if (notebookContainer) {{\n",
       "    x.observe(notebookContainer, {childList: true});\n",
       "}}\n",
       "\n",
       "// Listen for the clearing of the current output cell\n",
       "var outputEl = gd.closest('.output');\n",
       "if (outputEl) {{\n",
       "    x.observe(outputEl, {childList: true});\n",
       "}}\n",
       "\n",
       "                        })\n",
       "                };\n",
       "                });\n",
       "            </script>\n",
       "        </div>"
      ]
     },
     "metadata": {},
     "output_type": "display_data"
    }
   ],
   "source": [
    "tot = go.Bar(x=merged_atvaelo_df['TEAM'],\n",
    "             y=merged_atvaelo_df['VALUE_MILLIONS'],\n",
    "             name='Team Value',\n",
    "             marker=dict(color='orange'))\n",
    "\n",
    "data=[tot]\n",
    "\n",
    "layout=go.Layout(\n",
    "    title='Value of NBA Teams',\n",
    "    xaxis=dict(title='Teams',\n",
    "               titlefont=dict(size=16, color='black'),\n",
    "               tickfont=dict(size=14, color='#0080ff')),\n",
    "    \n",
    "    yaxis=dict(title='Millions',\n",
    "               titlefont=dict(size=16, color='black'),\n",
    "               tickfont=dict(size=14, color='#0080ff'),\n",
    "               showgrid=True, \n",
    "               gridwidth=0.2, \n",
    "               gridcolor='white'),\n",
    "    \n",
    "    legend=dict(x=1,\n",
    "                y=1.0,\n",
    "                bgcolor='white',\n",
    "                bordercolor='white'),\n",
    "    \n",
    "    plot_bgcolor='#9c9c9c',\n",
    "    barmode='group',\n",
    "    bargap=0.2,\n",
    "    bargroupgap=0.1\n",
    ")\n",
    "\n",
    "fig = go.Figure(data=data, layout=layout)\n",
    "pyo.iplot(fig)"
   ]
  },
  {
   "cell_type": "code",
   "execution_count": 219,
   "metadata": {
    "ExecuteTime": {
     "end_time": "2020-03-28T02:59:18.378407Z",
     "start_time": "2020-03-28T02:59:18.191147Z"
    }
   },
   "outputs": [
    {
     "name": "stdout",
     "output_type": "stream",
     "text": [
      "                            OLS Regression Results                            \n",
      "==============================================================================\n",
      "Dep. Variable:                    ELO   R-squared:                       0.118\n",
      "Model:                            OLS   Adj. R-squared:                 -0.023\n",
      "Method:                 Least Squares   F-statistic:                    0.8356\n",
      "Date:                Sat, 28 Mar 2020   Prob (F-statistic):              0.516\n",
      "Time:                        03:59:18   Log-Likelihood:                -180.32\n",
      "No. Observations:                  30   AIC:                             370.6\n",
      "Df Residuals:                      25   BIC:                             377.6\n",
      "Df Model:                           4                                         \n",
      "Covariance Type:            nonrobust                                         \n",
      "==================================================================================\n",
      "                     coef    std err          t      P>|t|      [0.025      0.975]\n",
      "----------------------------------------------------------------------------------\n",
      "const              0.7130      0.147      4.852      0.000       0.410       1.016\n",
      "GMS               29.2346      6.025      4.852      0.000      16.826      41.644\n",
      "TOTAL             -1.3524      1.630     -0.830      0.415      -4.710       2.005\n",
      "AVG               55.4670     66.839      0.830      0.414     -82.190     193.124\n",
      "PCT                0.0158      4.532      0.003      0.997      -9.318       9.350\n",
      "VALUE_MILLIONS    -0.0254      0.034     -0.742      0.465      -0.096       0.045\n",
      "==============================================================================\n",
      "Omnibus:                        0.091   Durbin-Watson:                   2.128\n",
      "Prob(Omnibus):                  0.956   Jarque-Bera (JB):                0.279\n",
      "Skew:                           0.093   Prob(JB):                        0.870\n",
      "Kurtosis:                       2.566   Cond. No.                     2.28e+19\n",
      "==============================================================================\n",
      "\n",
      "Warnings:\n",
      "[1] Standard Errors assume that the covariance matrix of the errors is correctly specified.\n",
      "[2] The smallest eigenvalue is 3.12e-26. This might indicate that there are\n",
      "strong multicollinearity problems or that the design matrix is singular.\n"
     ]
    },
    {
     "name": "stderr",
     "output_type": "stream",
     "text": [
      "/opt/anaconda3/lib/python3.7/site-packages/numpy/core/fromnumeric.py:2495: FutureWarning:\n",
      "\n",
      "Method .ptp is deprecated and will be removed in a future version. Use numpy.ptp instead.\n",
      "\n"
     ]
    }
   ],
   "source": [
    "train_x = attendance_valuation_elo_df.drop([\"ELO\",\"TEAM\",\"CONF\"],axis=1)\n",
    "train_y = attendance_valuation_elo_df[\"ELO\"]\n",
    "\n",
    "x = sm.add_constant(train_x, has_constant='add')\n",
    "est = sm.OLS(train_y, x)\n",
    "est = est.fit()\n",
    "print(est.summary()) "
   ]
  },
  {
   "cell_type": "markdown",
   "metadata": {},
   "source": [
    "At this point, we already can predict the different ELO of the NBA teams."
   ]
  },
  {
   "cell_type": "code",
   "execution_count": 220,
   "metadata": {
    "ExecuteTime": {
     "end_time": "2020-03-28T02:59:33.658366Z",
     "start_time": "2020-03-28T02:59:33.649323Z"
    }
   },
   "outputs": [
    {
     "data": {
      "text/plain": [
       "0     1568.659368\n",
       "1     1537.188367\n",
       "2     1526.014131\n",
       "3     1509.713040\n",
       "4     1542.160247\n",
       "5     1530.780705\n",
       "6     1581.949342\n",
       "7     1527.059628\n",
       "8     1539.182473\n",
       "9     1503.373866\n",
       "10    1493.348262\n",
       "11    1493.123492\n",
       "12    1517.557197\n",
       "13    1534.353641\n",
       "14    1555.275467\n",
       "15    1530.046834\n",
       "16    1497.332325\n",
       "17    1485.075574\n",
       "18    1470.082206\n",
       "19    1511.244671\n",
       "20    1463.976585\n",
       "21    1485.906132\n",
       "22    1490.679110\n",
       "23    1459.708052\n",
       "24    1438.053363\n",
       "25    1492.093393\n",
       "26    1481.716213\n",
       "27    1453.257957\n",
       "28    1431.381769\n",
       "29    1494.706587\n",
       "dtype: float64"
      ]
     },
     "execution_count": 220,
     "metadata": {},
     "output_type": "execute_result"
    }
   ],
   "source": [
    "pred_y= est.predict(x)\n",
    "pred_y"
   ]
  },
  {
   "cell_type": "code",
   "execution_count": 234,
   "metadata": {
    "ExecuteTime": {
     "end_time": "2020-03-28T03:13:18.742868Z",
     "start_time": "2020-03-28T03:13:18.731365Z"
    }
   },
   "outputs": [
    {
     "data": {
      "text/plain": [
       "TEAM\n",
       "Golden State Warriors     242.940372\n",
       "San Antonio Spurs         126.646359\n",
       "Houston Rockets           116.924426\n",
       "Washington Wizards        105.283787\n",
       "Los Angeles Clippers      105.219295\n",
       "Denver Nuggets             98.742043\n",
       "Boston Celtics             93.651738\n",
       "Utah Jazz                  61.724533\n",
       "Miami Heat                 59.286960\n",
       "Toronto Raptors            57.839753\n",
       "Portland Trail Blazers     45.442803\n",
       "Minnesota Timberwolves     31.618231\n",
       "Atlanta Hawks              19.291948\n",
       "Memphis Grizzlies          18.023415\n",
       "Indiana Pacers             14.755329\n",
       "Milwaukee Bucks             9.906607\n",
       "Oklahoma City Thunder       3.817527\n",
       "New Orleans Pelicans      -15.332325\n",
       "Charlotte Hornets         -22.906132\n",
       "Cleveland Cavaliers       -36.949342\n",
       "Chicago Bulls             -49.659368\n",
       "Detroit Pistons           -53.706587\n",
       "Brooklyn Nets             -66.053363\n",
       "Dallas Mavericks         -117.188367\n",
       "Los Angeles Lakers       -126.123492\n",
       "New York Knicks          -129.373866\n",
       "Phoenix Suns             -130.082206\n",
       "Sacramento Kings         -133.014131\n",
       "Philadelphia 76ers       -152.679110\n",
       "Orlando Magic            -178.046834\n",
       "dtype: float64"
      ]
     },
     "execution_count": 234,
     "metadata": {},
     "output_type": "execute_result"
    }
   ],
   "source": [
    "ELO_comparison = merged_atvaelo_df.ELO - pred_y\n",
    "ELO_comparison.index = merged_atvaelo_df.TEAM\n",
    "ELO_comparison.sort_values(ascending=False)"
   ]
  },
  {
   "cell_type": "markdown",
   "metadata": {},
   "source": [
    "Now we can see the NBA teams, that, apparently, will have a best and worse progression. "
   ]
  },
  {
   "cell_type": "markdown",
   "metadata": {},
   "source": [
    "We don't have more time to develop this last part of the project to make more investigations.\n",
    "\n",
    "Anyway offensive statistics are generally a better predictor of a players RPM, than a player's deffensive statistics. \n",
    "\n",
    "However, a combined deffensive and offensive regression model may serve as a better means of predicting a player's RPM.\n",
    "\n",
    "Thanks :)"
   ]
  },
  {
   "cell_type": "code",
   "execution_count": null,
   "metadata": {},
   "outputs": [],
   "source": []
  }
 ],
 "metadata": {
  "kernelspec": {
   "display_name": "Python 3",
   "language": "python",
   "name": "python3"
  },
  "language_info": {
   "codemirror_mode": {
    "name": "ipython",
    "version": 3
   },
   "file_extension": ".py",
   "mimetype": "text/x-python",
   "name": "python",
   "nbconvert_exporter": "python",
   "pygments_lexer": "ipython3",
   "version": "3.7.4"
  },
  "varInspector": {
   "cols": {
    "lenName": 16,
    "lenType": 16,
    "lenVar": 40
   },
   "kernels_config": {
    "python": {
     "delete_cmd_postfix": "",
     "delete_cmd_prefix": "del ",
     "library": "var_list.py",
     "varRefreshCmd": "print(var_dic_list())"
    },
    "r": {
     "delete_cmd_postfix": ") ",
     "delete_cmd_prefix": "rm(",
     "library": "var_list.r",
     "varRefreshCmd": "cat(var_dic_list()) "
    }
   },
   "types_to_exclude": [
    "module",
    "function",
    "builtin_function_or_method",
    "instance",
    "_Feature"
   ],
   "window_display": false
  }
 },
 "nbformat": 4,
 "nbformat_minor": 2
}
